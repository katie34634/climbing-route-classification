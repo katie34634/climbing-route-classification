{
 "cells": [
  {
   "cell_type": "markdown",
   "metadata": {
    "id": "bt_0DgIJ_jXA"
   },
   "source": [
    "Alisha Chulani - completed fine tuning steps for Parts 1 and 2\n",
    "\n",
    "Katie Baakonen - completed set up for Part 2\n",
    "\n",
    "Together - everything else\n",
    "\n",
    "Both spent ~8 hours on assignment\n",
    "\n",
    "Used ChatGPT to generate initial code and had to finetune to address bugs + data issues."
   ]
  },
  {
   "cell_type": "markdown",
   "metadata": {},
   "source": [
    "### Part 1: Character-level Transformer Model"
   ]
  },
  {
   "cell_type": "code",
   "execution_count": 173,
   "metadata": {
    "colab": {
     "base_uri": "https://localhost:8080/"
    },
    "id": "6aGZRqbnNbDQ",
    "outputId": "d295560e-3514-45a4-de67-1756c39b74da"
   },
   "outputs": [],
   "source": [
    "import random\n",
    "import numpy as np\n",
    "import torch\n",
    "from torch.utils.data import DataLoader, Dataset, random_split\n",
    "import torch.nn as nn\n",
    "import torch.optim as optim\n",
    "import matplotlib.pyplot as plt\n",
    "# from google.colab import drive\n",
    "from transformers import BertModel, BertTokenizer\n",
    "import torch\n",
    "import torchvision\n",
    "# !pip install datasets\n",
    "# drive.mount('/content/drive')"
   ]
  },
  {
   "cell_type": "markdown",
   "metadata": {},
   "source": [
    "All of the code for processing the text was copied over from Alisha's assignment from last week."
   ]
  },
  {
   "cell_type": "code",
   "execution_count": 174,
   "metadata": {
    "id": "0lRrV6ohN4Qf"
   },
   "outputs": [],
   "source": [
    "with open('english_small.txt', 'r') as file:\n",
    "    #data = file.readlines()  # Read all lines into a list\n",
    "    # If you want to read the entire content as a single string\n",
    "    data = file.read()\n",
    "\n",
    "import string\n",
    "\n",
    "# Convert to lowercase\n",
    "data = data.lower()\n",
    "\n",
    "# Remove punctuation except periods\n",
    "data_english = ''.join(c for c in data if (c.isalpha() and c in string.ascii_lowercase) or c.isspace() or c == '.')"
   ]
  },
  {
   "cell_type": "code",
   "execution_count": 175,
   "metadata": {
    "id": "0NRdrLiLN5Lk"
   },
   "outputs": [],
   "source": [
    "# Specify the path to your text file\n",
    "file_path = 'spanish_small.txt'\n",
    "\n",
    "with open(file_path, 'r', encoding='latin-1') as file:\n",
    "    data = file.read()  # Read entire content\n",
    "\n",
    "\n",
    "\n",
    "# Convert to lowercase\n",
    "data = data.lower()\n",
    "\n",
    "# Remove non-English alphabet characters, keep whitespace and periods\n",
    "data_spanish = ''.join(c for c in data if (c.isalpha() and (c in string.ascii_lowercase or c in 'áéíóúüñ')) or c.isspace() or c == '.')\n"
   ]
  },
  {
   "cell_type": "code",
   "execution_count": 176,
   "metadata": {
    "colab": {
     "base_uri": "https://localhost:8080/"
    },
    "id": "1NJhGJw0N8D9",
    "outputId": "ff0611f8-b2d7-4401-b371-465a08476889"
   },
   "outputs": [
    {
     "name": "stdout",
     "output_type": "stream",
     "text": [
      "Character-to-Integer Mapping:\n",
      "'q': 0\n",
      "'j': 1\n",
      "'x': 2\n",
      "'\n",
      "': 3\n",
      "'.': 4\n",
      "'m': 5\n",
      "'g': 6\n",
      "'e': 7\n",
      "'c': 8\n",
      "'d': 9\n",
      "'y': 10\n",
      "'p': 11\n",
      "'t': 12\n",
      "'b': 13\n",
      "'á': 14\n",
      "'z': 15\n",
      "'f': 16\n",
      "'v': 17\n",
      "'o': 18\n",
      "'r': 19\n",
      "'i': 20\n",
      "'l': 21\n",
      "'w': 22\n",
      "'u': 23\n",
      "'k': 24\n",
      "'a': 25\n",
      "'í': 26\n",
      "'h': 27\n",
      "'ñ': 28\n",
      "'n': 29\n",
      "' ': 30\n",
      "'ú': 31\n",
      "'é': 32\n",
      "'ó': 33\n",
      "'s': 34\n"
     ]
    }
   ],
   "source": [
    "import random\n",
    "import numpy as np\n",
    "\n",
    "# Parameters\n",
    "N = 32  # Batch size\n",
    "L = 75  # Length of each chunk of characters\n",
    "\n",
    "# Find unique characters in English and Spanish texts\n",
    "unique_chars = set(data_english + data_spanish)\n",
    "\n",
    "# Create a custom character-to-integer mapping for the unique characters\n",
    "char_to_int = {char: idx for idx, char in enumerate(unique_chars)}\n",
    "\n",
    "# Print the unique character-to-integer mapping\n",
    "print(\"Character-to-Integer Mapping:\")\n",
    "for char, idx in char_to_int.items():\n",
    "    print(f\"'{char}': {idx}\")\n",
    "\n",
    "def slice_and_label(text, label, L):\n",
    "    \"\"\"\n",
    "    Slices the input text into chunks of length L, converts characters to integers,\n",
    "    and labels them.\n",
    "\n",
    "    Args:\n",
    "    - text: string, input long text.\n",
    "    - label: integer, 0 for English, 1 for Spanish.\n",
    "    - L: int, length of each chunk.\n",
    "\n",
    "    Returns:\n",
    "    - A list of (chunk, label) tuples.\n",
    "    \"\"\"\n",
    "    data = []\n",
    "    # Slice the text into chunks of length L\n",
    "    for i in range(0, len(text), L):\n",
    "        chunk = text[i:i+L]\n",
    "        # If the chunk is shorter than L, pad with spaces\n",
    "        chunk = chunk + ' ' * (L - len(chunk))\n",
    "        # Convert characters to integer values based on custom mapping\n",
    "        chunk_indices = [char_to_int.get(c, 0) for c in chunk]  # 0 for unknown characters\n",
    "        # Add (chunk, label) to the data list\n",
    "        data.append((chunk_indices, label))\n",
    "    return data"
   ]
  },
  {
   "cell_type": "code",
   "execution_count": 177,
   "metadata": {
    "id": "58ovm07LN-FF"
   },
   "outputs": [],
   "source": [
    "# Preprocess English and Spanish strings\n",
    "english = slice_and_label(data_english, 0, L)\n",
    "spanish = slice_and_label(data_spanish, 1, L)"
   ]
  },
  {
   "cell_type": "code",
   "execution_count": 178,
   "metadata": {
    "colab": {
     "base_uri": "https://localhost:8080/"
    },
    "id": "C4WQsMN0N-fI",
    "outputId": "7fff5911-87b7-4e18-e129-9bd8c4cb0a61"
   },
   "outputs": [
    {
     "name": "stdout",
     "output_type": "stream",
     "text": [
      "([30, 3, 30, 30, 17, 25, 21, 24, 10, 19, 20, 25, 30, 8, 27, 19, 18, 29, 20, 8, 21, 7, 34, 30, 20, 20, 20, 30, 30, 3, 30, 3, 30, 34, 7, 29, 1, 30, 29, 18, 30, 17, 25, 21, 24, 10, 19, 20, 25, 30, 30, 30, 23, 29, 24, 30, 8, 27, 19, 18, 29, 20, 8, 21, 7, 34, 30, 30, 1, 25, 11, 25, 29, 7, 34], 0)\n",
      "([34, 11, 7, 19, 25, 29, 12, 18, 30, 16, 7, 19, 7, 29, 8, 30, 34, 15, 20, 21, 14, 6, 10, 20, 3, 7, 21, 30, 8, 23, 25, 21, 30, 27, 7, 34, 34, 30, 25, 9, 25, 11, 12, 33, 30, 11, 25, 19, 25, 30, 21, 18, 34, 30, 7, 29, 3, 1, 18, 19, 6, 7, 30, 27, 7, 34, 34, 30, 12, 25, 5, 13, 20, 32, 29], 1)\n"
     ]
    }
   ],
   "source": [
    "print(english[0])\n",
    "print(spanish[5])"
   ]
  },
  {
   "cell_type": "code",
   "execution_count": 179,
   "metadata": {
    "id": "0BcgF0zwOBU7"
   },
   "outputs": [],
   "source": [
    "# Combine and shuffle the data\n",
    "combined_data = english + spanish\n",
    "random.shuffle(combined_data)\n",
    "\n",
    "# Split the data into inputs (X) and labels (y)\n",
    "X = np.array([x[0] for x in combined_data])\n",
    "y = np.array([x[1] for x in combined_data])"
   ]
  },
  {
   "cell_type": "code",
   "execution_count": 180,
   "metadata": {
    "id": "6Rr6nAjMOFU8"
   },
   "outputs": [],
   "source": [
    "# Create a PyTorch Dataset\n",
    "class LanguageDataset(Dataset):\n",
    "    def __init__(self, X, y):\n",
    "        self.X = torch.tensor(X, dtype=torch.long)  # Convert to torch tensors\n",
    "        self.y = torch.tensor(y, dtype=torch.long)  # Binary classification (float needed for loss function)\n",
    "\n",
    "    def __len__(self):\n",
    "        return len(self.X)\n",
    "\n",
    "    def __getitem__(self, idx):\n",
    "        return self.X[idx], self.y[idx]"
   ]
  },
  {
   "cell_type": "code",
   "execution_count": 181,
   "metadata": {
    "id": "DNHsu2IsOGuQ"
   },
   "outputs": [],
   "source": [
    "# Create dataset\n",
    "dataset = LanguageDataset(X, y)\n",
    "\n",
    "# Split the dataset into training (80%) and validation (20%)\n",
    "train_size = int(0.8 * len(dataset))\n",
    "val_size = len(dataset) - train_size\n",
    "train_dataset, val_dataset = random_split(dataset, [train_size, val_size])\n",
    "\n",
    "# Create DataLoader for training and validation datasets\n",
    "train_dataloader = DataLoader(train_dataset, batch_size=N, shuffle=True)\n",
    "val_dataloader = DataLoader(val_dataset, batch_size=N, shuffle=False)"
   ]
  },
  {
   "cell_type": "markdown",
   "metadata": {},
   "source": [
    "Here, we define the transformer model."
   ]
  },
  {
   "cell_type": "code",
   "execution_count": 182,
   "metadata": {
    "id": "Lpu58m1BPSZg"
   },
   "outputs": [],
   "source": [
    "class TransformerClassifier(nn.Module):\n",
    "    def __init__(self, vocab_size, embed_dim, num_heads, seq_length, num_classes=2):\n",
    "        super(TransformerClassifier, self).__init__()\n",
    "        self.embedding = nn.Embedding(vocab_size, embed_dim)\n",
    "        self.positional_encoding = nn.Parameter(torch.zeros(1, seq_length, embed_dim))\n",
    "        self.transformer_encoder = nn.TransformerEncoderLayer(\n",
    "            d_model=embed_dim, nhead=num_heads\n",
    "        )\n",
    "        self.fc = nn.Linear(embed_dim, num_classes)\n",
    "\n",
    "    def forward(self, x):\n",
    "        x = self.embedding(x) + self.positional_encoding[:, :x.size(1), :]\n",
    "        x = self.transformer_encoder(x)\n",
    "        x = x.mean(dim=1)  # Mean pooling\n",
    "        return self.fc(x)\n"
   ]
  },
  {
   "cell_type": "markdown",
   "metadata": {},
   "source": [
    "Set the hyperparameters."
   ]
  },
  {
   "cell_type": "code",
   "execution_count": 183,
   "metadata": {
    "id": "KLSTXvsfPdGl"
   },
   "outputs": [],
   "source": [
    "# Hyperparameters\n",
    "vocab_size = len(unique_chars)  # Adjust based on the vocabulary size\n",
    "embed_dim = 64\n",
    "num_heads = 4\n",
    "seq_length = L  # Adjust based on sequence length\n",
    "learning_rate = 0.001\n",
    "num_epochs = 5\n",
    "\n",
    "# Initialize model, loss function, and optimizer\n",
    "model = TransformerClassifier(vocab_size, embed_dim, num_heads, seq_length)\n",
    "criterion = nn.CrossEntropyLoss()\n",
    "optimizer = torch.optim.Adam(model.parameters(), lr=learning_rate)"
   ]
  },
  {
   "cell_type": "markdown",
   "metadata": {},
   "source": [
    "Define the training loop and train the model"
   ]
  },
  {
   "cell_type": "code",
   "execution_count": 184,
   "metadata": {
    "id": "pkRX2FhtPppv"
   },
   "outputs": [],
   "source": [
    "def train(model, train_loader, val_loader, num_epochs=10, learning_rate=0.001):\n",
    "\n",
    "    train_losses = []\n",
    "    val_losses = []\n",
    "    accuracies = []\n",
    "\n",
    "    for epoch in range(num_epochs):\n",
    "        model.train()\n",
    "        total_loss = 0\n",
    "        for inputs, labels in train_loader:\n",
    "            optimizer.zero_grad()\n",
    "            outputs = model(inputs)\n",
    "            loss = criterion(outputs, labels)\n",
    "            loss.backward()\n",
    "            optimizer.step()\n",
    "            total_loss += loss.item()\n",
    "        train_losses.append(total_loss/len(train_loader))\n",
    "\n",
    "        # Validation\n",
    "        model.eval()\n",
    "        val_loss = 0\n",
    "        correct = 0\n",
    "        with torch.no_grad():\n",
    "            for inputs, labels in val_loader:\n",
    "                outputs = model(inputs)\n",
    "                loss = criterion(outputs, labels)\n",
    "                val_loss += loss.item()\n",
    "                predictions = outputs.argmax(dim=1)\n",
    "                correct += (predictions == labels).sum().item()\n",
    "\n",
    "        val_losses.append(val_loss/len(val_loader))\n",
    "        accuracies.append(correct/len(val_loader.dataset))\n",
    "\n",
    "        print(f\"Epoch {epoch+1}, Train Loss: {total_loss/len(train_loader)}, \"\n",
    "              f\"Val Loss: {val_loss/len(val_loader)}, \"\n",
    "              f\"Validation Accuracy: {correct/len(val_loader.dataset):.2f}\")\n",
    "\n",
    "    return train_losses, val_loss, accuracies"
   ]
  },
  {
   "cell_type": "code",
   "execution_count": 185,
   "metadata": {
    "colab": {
     "base_uri": "https://localhost:8080/"
    },
    "id": "z-VaD6lkUd60",
    "outputId": "32d3515a-3d53-45a7-97dd-5d466efcfbe9"
   },
   "outputs": [
    {
     "name": "stdout",
     "output_type": "stream",
     "text": [
      "Epoch 1, Train Loss: 0.6204068376904442, Val Loss: 0.553646519780159, Validation Accuracy: 0.58\n",
      "Epoch 2, Train Loss: 0.43942845861117047, Val Loss: 0.36607244114081067, Validation Accuracy: 0.83\n",
      "Epoch 3, Train Loss: 0.3351541303452991, Val Loss: 0.2815462127327919, Validation Accuracy: 0.93\n",
      "Epoch 4, Train Loss: 0.2651553551355998, Val Loss: 0.24270775417486826, Validation Accuracy: 0.92\n",
      "Epoch 5, Train Loss: 0.23893152461165473, Val Loss: 0.2058019464214643, Validation Accuracy: 0.95\n"
     ]
    }
   ],
   "source": [
    "train_loss, val_loss, accuracies = train(model, train_dataloader, val_dataloader, num_epochs, learning_rate)"
   ]
  },
  {
   "cell_type": "markdown",
   "metadata": {},
   "source": [
    "\n",
    "Define the plotting function and plot."
   ]
  },
  {
   "cell_type": "code",
   "execution_count": 186,
   "metadata": {
    "id": "uE-y_RQ1ZFbS"
   },
   "outputs": [],
   "source": [
    "def display_losses_and_accuracy(train_loss, val_loss, accuracy_list):\n",
    "    '''\n",
    "    Plots training loss vs iteration and shows model parameters & test accuracy.\n",
    "\n",
    "    Inputs:\n",
    "        losses - history of training loss at each epoch\n",
    "        w - model parameters\n",
    "        X_test - test inputs\n",
    "        y_test - test target values\n",
    "    '''\n",
    "    plt.figure(1)\n",
    "    plt.plot(train_loss, 'b', label='Training Loss')\n",
    "    plt.plot(val_loss, 'g', label='Validation Loss')\n",
    "    plt.title('Loss vs Epoch')\n",
    "    plt.xlabel('Epochs')\n",
    "    plt.ylabel('Loss')\n",
    "    plt.ylim(0, 1)\n",
    "    plt.legend()\n",
    "    plt.show()\n",
    "\n",
    "    plt.figure(2)\n",
    "    plt.plot(accuracy_list, 'r')\n",
    "    plt.title('Accuracy vs Epoch')\n",
    "    plt.xlabel('Epochs')\n",
    "    plt.ylabel('Accuracy')\n",
    "    plt.show()\n",
    "\n",
    "    np.set_printoptions(precision=3)\n",
    "    print(\"Percent Accuracy: \", accuracy_list[-1])"
   ]
  },
  {
   "cell_type": "code",
   "execution_count": 124,
   "metadata": {
    "colab": {
     "base_uri": "https://localhost:8080/",
     "height": 944
    },
    "id": "bauTjLaOZFbS",
    "outputId": "2504f1ba-bb2a-42f9-f43f-8d03c9d15800"
   },
   "outputs": [
    {
     "data": {
      "image/png": "[encoded data removed]",
      "text/plain": [
       "<Figure size 640x480 with 1 Axes>"
      ]
     },
     "metadata": {},
     "output_type": "display_data"
    },
    {
     "data": {
      "image/png": "[encoded data removed]",
      "text/plain": [
       "<Figure size 640x480 with 1 Axes>"
      ]
     },
     "metadata": {},
     "output_type": "display_data"
    },
    {
     "name": "stdout",
     "output_type": "stream",
     "text": [
      "Percent Accuracy:  0.937888198757764\n"
     ]
    }
   ],
   "source": [
    "display_losses_and_accuracy(train_loss, val_loss, accuracies)"
   ]
  },
  {
   "cell_type": "markdown",
   "metadata": {},
   "source": [
    "\n",
    "\n",
    "In the above example, we can see pretty good performance because the validation and training losses keep dropping across epochs, and training accuracy improves to 93%.\n",
    "\n",
    "The following codecells adjust hyperparameters to test the performance of slightly differing models.\n",
    "\n",
    "Model 2 first tries adjusting the embedding dimension to 128. We see that there is a signifcant drop in performance - the losses stagnate at around 0.7 as does the accuracy at 46%.\n"
   ]
  },
  {
   "cell_type": "code",
   "execution_count": 187,
   "metadata": {
    "colab": {
     "base_uri": "https://localhost:8080/",
     "height": 1000
    },
    "id": "Phz3qicY3OAv",
    "outputId": "2831f9c8-e041-4883-b054-7b3d86e55b7a"
   },
   "outputs": [
    {
     "name": "stdout",
     "output_type": "stream",
     "text": [
      "Epoch 1, Train Loss: 0.6550524745668683, Val Loss: 0.6769137978553772, Validation Accuracy: 0.58\n",
      "Epoch 2, Train Loss: 0.673380366393498, Val Loss: 0.6769137978553772, Validation Accuracy: 0.58\n",
      "Epoch 3, Train Loss: 0.6561294794082642, Val Loss: 0.6769137978553772, Validation Accuracy: 0.58\n",
      "Epoch 4, Train Loss: 0.6557015152204604, Val Loss: 0.6769137978553772, Validation Accuracy: 0.58\n",
      "Epoch 5, Train Loss: 0.6650794120061965, Val Loss: 0.6769137978553772, Validation Accuracy: 0.58\n"
     ]
    },
    {
     "data": {
      "image/png": "[encoded data removed]",
      "text/plain": [
       "<Figure size 640x480 with 1 Axes>"
      ]
     },
     "metadata": {},
     "output_type": "display_data"
    },
    {
     "data": {
      "image/png": "[encoded data removed]",
      "text/plain": [
       "<Figure size 640x480 with 1 Axes>"
      ]
     },
     "metadata": {},
     "output_type": "display_data"
    },
    {
     "name": "stdout",
     "output_type": "stream",
     "text": [
      "Percent Accuracy:  0.577639751552795\n"
     ]
    }
   ],
   "source": [
    "class TransformerClassifier(nn.Module):\n",
    "    def __init__(self, vocab_size, embed_dim, num_heads, seq_length, num_classes=2):\n",
    "        super(TransformerClassifier, self).__init__()\n",
    "        self.embedding = nn.Embedding(vocab_size, embed_dim)\n",
    "        self.positional_encoding = nn.Parameter(torch.zeros(1, seq_length, embed_dim))\n",
    "        self.transformer_encoder = nn.TransformerEncoderLayer(\n",
    "            d_model=embed_dim, nhead=num_heads\n",
    "        )\n",
    "        self.fc = nn.Linear(embed_dim, num_classes)\n",
    "\n",
    "    def forward(self, x):\n",
    "        x = self.embedding(x) + self.positional_encoding[:, :x.size(1), :]\n",
    "        x = self.transformer_encoder(x)\n",
    "        x = x.mean(dim=1)  # Mean pooling\n",
    "        return self.fc(x)\n",
    "\n",
    "\n",
    "# Hyperparameters\n",
    "vocab_size = len(unique_chars)  # Adjust based on the vocabulary size\n",
    "embed_dim = 128\n",
    "num_heads = 4\n",
    "seq_length = L  # Adjust based on sequence length\n",
    "learning_rate = 0.001\n",
    "num_epochs = 5\n",
    "\n",
    "# Initialize model, loss function, and optimizer\n",
    "model2 = TransformerClassifier(vocab_size, embed_dim, num_heads, seq_length)\n",
    "criterion = nn.CrossEntropyLoss()\n",
    "optimizer = torch.optim.Adam(model.parameters(), lr=learning_rate)\n",
    "\n",
    "train_loss, val_loss, accuracies = train(model2, train_dataloader, val_dataloader, num_epochs, learning_rate)\n",
    "display_losses_and_accuracy(train_loss, val_loss, accuracies)"
   ]
  },
  {
   "cell_type": "markdown",
   "metadata": {},
   "source": [
    "Model 3 tries adjusting the embedding dimension to 32. We see that there is a signifcant drop in performance hera as well - the losses stagnate at around 0.68 as does the accuracy at 60%. While model 3 is better than model 2, the original model still performs the best."
   ]
  },
  {
   "cell_type": "code",
   "execution_count": 126,
   "metadata": {
    "colab": {
     "base_uri": "https://localhost:8080/",
     "height": 1000
    },
    "id": "kajAUYPl3Xg8",
    "outputId": "b486c2d1-4a4b-4161-91b2-cd199bbb5179"
   },
   "outputs": [
    {
     "name": "stdout",
     "output_type": "stream",
     "text": [
      "Epoch 1, Train Loss: 0.7688011725743612, Val Loss: 0.7908616662025452, Validation Accuracy: 0.29\n",
      "Epoch 2, Train Loss: 0.7671306303569249, Val Loss: 0.7908616662025452, Validation Accuracy: 0.29\n",
      "Epoch 3, Train Loss: 0.7710400535946801, Val Loss: 0.7908616662025452, Validation Accuracy: 0.29\n",
      "Epoch 4, Train Loss: 0.753944334529695, Val Loss: 0.7908616662025452, Validation Accuracy: 0.29\n",
      "Epoch 5, Train Loss: 0.7692444352876573, Val Loss: 0.7908616662025452, Validation Accuracy: 0.29\n",
      "Epoch 6, Train Loss: 0.7676239865166801, Val Loss: 0.7908616662025452, Validation Accuracy: 0.29\n",
      "Epoch 7, Train Loss: 0.7687396293594724, Val Loss: 0.7908616662025452, Validation Accuracy: 0.29\n",
      "Epoch 8, Train Loss: 0.7654283671152025, Val Loss: 0.7908616662025452, Validation Accuracy: 0.29\n",
      "Epoch 9, Train Loss: 0.7611537887936547, Val Loss: 0.7908616662025452, Validation Accuracy: 0.29\n",
      "Epoch 10, Train Loss: 0.7531622534706479, Val Loss: 0.7908616662025452, Validation Accuracy: 0.29\n"
     ]
    },
    {
     "data": {
      "image/png": "[encoded data removed]",
      "text/plain": [
       "<Figure size 640x480 with 1 Axes>"
      ]
     },
     "metadata": {},
     "output_type": "display_data"
    },
    {
     "data": {
      "image/png": "[encoded data removed]",
      "text/plain": [
       "<Figure size 640x480 with 1 Axes>"
      ]
     },
     "metadata": {},
     "output_type": "display_data"
    },
    {
     "name": "stdout",
     "output_type": "stream",
     "text": [
      "Percent Accuracy:  0.2857142857142857\n"
     ]
    }
   ],
   "source": [
    "class TransformerClassifier(nn.Module):\n",
    "    def __init__(self, vocab_size, embed_dim, num_heads, seq_length, num_classes=2):\n",
    "        super(TransformerClassifier, self).__init__()\n",
    "        self.embedding = nn.Embedding(vocab_size, embed_dim)\n",
    "        self.positional_encoding = nn.Parameter(torch.zeros(1, seq_length, embed_dim))\n",
    "        self.transformer_encoder = nn.TransformerEncoderLayer(\n",
    "            d_model=embed_dim, nhead=num_heads\n",
    "        )\n",
    "        self.fc = nn.Linear(embed_dim, num_classes)\n",
    "\n",
    "    def forward(self, x):\n",
    "        x = self.embedding(x) + self.positional_encoding[:, :x.size(1), :]\n",
    "        x = self.transformer_encoder(x)\n",
    "        x = x.mean(dim=1)  # Mean pooling\n",
    "        return self.fc(x)\n",
    "\n",
    "\n",
    "# Hyperparameters\n",
    "vocab_size = len(unique_chars)  # Adjust based on the vocabulary size\n",
    "embed_dim = 32\n",
    "num_heads = 4\n",
    "seq_length = L  # Adjust based on sequence length\n",
    "learning_rate = 0.001\n",
    "num_epochs = 5\n",
    "\n",
    "# Initialize model, loss function, and optimizer\n",
    "model3 = TransformerClassifier(vocab_size, embed_dim, num_heads, seq_length)\n",
    "criterion = nn.CrossEntropyLoss()\n",
    "optimizer = torch.optim.Adam(model.parameters(), lr=learning_rate)\n",
    "\n",
    "train_loss, val_loss, accuracies = train(model3, train_dataloader, val_dataloader, 10, learning_rate)\n",
    "display_losses_and_accuracy(train_loss, val_loss, accuracies)"
   ]
  },
  {
   "cell_type": "markdown",
   "metadata": {},
   "source": [
    "\n",
    "\n",
    "For the next 2 models, we adjusted the number of heads. Model 4 adjusts it to 8, but we see that the performance worsens here with stagnating losses and accuracy.\n"
   ]
  },
  {
   "cell_type": "code",
   "execution_count": 127,
   "metadata": {
    "colab": {
     "base_uri": "https://localhost:8080/",
     "height": 1000
    },
    "id": "E24kpjt63eFO",
    "outputId": "eb9ef3a9-5c25-4d62-d452-46405fec56d2"
   },
   "outputs": [
    {
     "name": "stdout",
     "output_type": "stream",
     "text": [
      "Epoch 1, Train Loss: 0.65871300583794, Val Loss: 0.652333011229833, Validation Accuracy: 0.79\n",
      "Epoch 2, Train Loss: 0.6630462322916303, Val Loss: 0.652333011229833, Validation Accuracy: 0.79\n",
      "Epoch 3, Train Loss: 0.6625510993457976, Val Loss: 0.652333011229833, Validation Accuracy: 0.79\n",
      "Epoch 4, Train Loss: 0.6622905191921052, Val Loss: 0.652333011229833, Validation Accuracy: 0.79\n",
      "Epoch 5, Train Loss: 0.659016952628181, Val Loss: 0.652333011229833, Validation Accuracy: 0.79\n",
      "Epoch 6, Train Loss: 0.6603731030509585, Val Loss: 0.652333011229833, Validation Accuracy: 0.79\n",
      "Epoch 7, Train Loss: 0.6621563860348293, Val Loss: 0.652333011229833, Validation Accuracy: 0.79\n",
      "Epoch 8, Train Loss: 0.6605080593199957, Val Loss: 0.652333011229833, Validation Accuracy: 0.79\n",
      "Epoch 9, Train Loss: 0.6585126377287365, Val Loss: 0.652333011229833, Validation Accuracy: 0.79\n",
      "Epoch 10, Train Loss: 0.6620422317868188, Val Loss: 0.652333011229833, Validation Accuracy: 0.79\n"
     ]
    },
    {
     "data": {
      "image/png": "[encoded data removed]",
      "text/plain": [
       "<Figure size 640x480 with 1 Axes>"
      ]
     },
     "metadata": {},
     "output_type": "display_data"
    },
    {
     "data": {
      "image/png": "[encoded data removed]",
      "text/plain": [
       "<Figure size 640x480 with 1 Axes>"
      ]
     },
     "metadata": {},
     "output_type": "display_data"
    },
    {
     "name": "stdout",
     "output_type": "stream",
     "text": [
      "Percent Accuracy:  0.7888198757763976\n"
     ]
    }
   ],
   "source": [
    "class TransformerClassifier(nn.Module):\n",
    "    def __init__(self, vocab_size, embed_dim, num_heads, seq_length, num_classes=2):\n",
    "        super(TransformerClassifier, self).__init__()\n",
    "        self.embedding = nn.Embedding(vocab_size, embed_dim)\n",
    "        self.positional_encoding = nn.Parameter(torch.zeros(1, seq_length, embed_dim))\n",
    "        self.transformer_encoder = nn.TransformerEncoderLayer(\n",
    "            d_model=embed_dim, nhead=num_heads\n",
    "        )\n",
    "        self.fc = nn.Linear(embed_dim, num_classes)\n",
    "\n",
    "    def forward(self, x):\n",
    "        x = self.embedding(x) + self.positional_encoding[:, :x.size(1), :]\n",
    "        x = self.transformer_encoder(x)\n",
    "        x = x.mean(dim=1)  # Mean pooling\n",
    "        return self.fc(x)\n",
    "\n",
    "\n",
    "# Hyperparameters\n",
    "vocab_size = len(unique_chars)  # Adjust based on the vocabulary size\n",
    "embed_dim = 64\n",
    "num_heads = 8\n",
    "seq_length = L  # Adjust based on sequence length\n",
    "learning_rate = 0.001\n",
    "num_epochs = 5\n",
    "\n",
    "# Initialize model, loss function, and optimizer\n",
    "model4 = TransformerClassifier(vocab_size, embed_dim, num_heads, seq_length)\n",
    "criterion = nn.CrossEntropyLoss()\n",
    "optimizer = torch.optim.Adam(model.parameters(), lr=learning_rate)\n",
    "\n",
    "train_loss, val_loss, accuracies = train(model4, train_dataloader, val_dataloader, 10, learning_rate)\n",
    "display_losses_and_accuracy(train_loss, val_loss, accuracies)"
   ]
  },
  {
   "cell_type": "markdown",
   "metadata": {},
   "source": [
    "\n",
    "\n",
    "Model 5 adjusts it to 2, but we see that the performance worsens here with stagnating losses and accuracy as well.\n"
   ]
  },
  {
   "cell_type": "code",
   "execution_count": 128,
   "metadata": {
    "colab": {
     "base_uri": "https://localhost:8080/",
     "height": 1000
    },
    "id": "J8u_p6UH3ivp",
    "outputId": "92c2f3b4-04d4-477f-af2e-62bf9ccb9432"
   },
   "outputs": [
    {
     "name": "stdout",
     "output_type": "stream",
     "text": [
      "Epoch 1, Train Loss: 0.7333368034589858, Val Loss: 0.7551604807376862, Validation Accuracy: 0.29\n",
      "Epoch 2, Train Loss: 0.7286603053410848, Val Loss: 0.7551604807376862, Validation Accuracy: 0.29\n",
      "Epoch 3, Train Loss: 0.7257577180862427, Val Loss: 0.7551604807376862, Validation Accuracy: 0.29\n",
      "Epoch 4, Train Loss: 0.7307295458657401, Val Loss: 0.7551604807376862, Validation Accuracy: 0.29\n",
      "Epoch 5, Train Loss: 0.7304820361591521, Val Loss: 0.7551604807376862, Validation Accuracy: 0.29\n",
      "Epoch 6, Train Loss: 0.7320250215984526, Val Loss: 0.7551604807376862, Validation Accuracy: 0.29\n",
      "Epoch 7, Train Loss: 0.7266102603503636, Val Loss: 0.7551604807376862, Validation Accuracy: 0.29\n",
      "Epoch 8, Train Loss: 0.7311842413175673, Val Loss: 0.7551604807376862, Validation Accuracy: 0.29\n",
      "Epoch 9, Train Loss: 0.7316752473513285, Val Loss: 0.7551604807376862, Validation Accuracy: 0.29\n",
      "Epoch 10, Train Loss: 0.7266305940491813, Val Loss: 0.7551604807376862, Validation Accuracy: 0.29\n"
     ]
    },
    {
     "data": {
      "image/png": "[encoded data removed]",
      "text/plain": [
       "<Figure size 640x480 with 1 Axes>"
      ]
     },
     "metadata": {},
     "output_type": "display_data"
    },
    {
     "data": {
      "image/png": "[encoded data removed]",
      "text/plain": [
       "<Figure size 640x480 with 1 Axes>"
      ]
     },
     "metadata": {},
     "output_type": "display_data"
    },
    {
     "name": "stdout",
     "output_type": "stream",
     "text": [
      "Percent Accuracy:  0.2857142857142857\n"
     ]
    }
   ],
   "source": [
    "class TransformerClassifier(nn.Module):\n",
    "    def __init__(self, vocab_size, embed_dim, num_heads, seq_length, num_classes=2):\n",
    "        super(TransformerClassifier, self).__init__()\n",
    "        self.embedding = nn.Embedding(vocab_size, embed_dim)\n",
    "        self.positional_encoding = nn.Parameter(torch.zeros(1, seq_length, embed_dim))\n",
    "        self.transformer_encoder = nn.TransformerEncoderLayer(\n",
    "            d_model=embed_dim, nhead=num_heads\n",
    "        )\n",
    "        self.fc = nn.Linear(embed_dim, num_classes)\n",
    "\n",
    "    def forward(self, x):\n",
    "        x = self.embedding(x) + self.positional_encoding[:, :x.size(1), :]\n",
    "        x = self.transformer_encoder(x)\n",
    "        x = x.mean(dim=1)  # Mean pooling\n",
    "        return self.fc(x)\n",
    "\n",
    "\n",
    "# Hyperparameters\n",
    "vocab_size = len(unique_chars)  # Adjust based on the vocabulary size\n",
    "embed_dim = 64\n",
    "num_heads = 2\n",
    "seq_length = L  # Adjust based on sequence length\n",
    "learning_rate = 0.001\n",
    "num_epochs = 5\n",
    "\n",
    "# Initialize model, loss function, and optimizer\n",
    "model5 = TransformerClassifier(vocab_size, embed_dim, num_heads, seq_length)\n",
    "criterion = nn.CrossEntropyLoss()\n",
    "optimizer = torch.optim.Adam(model.parameters(), lr=learning_rate)\n",
    "\n",
    "train_loss, val_loss, accuracies = train(model5, train_dataloader, val_dataloader, 10, learning_rate)\n",
    "display_losses_and_accuracy(train_loss, val_loss, accuracies)"
   ]
  },
  {
   "cell_type": "markdown",
   "metadata": {},
   "source": [
    "Thus, the highest performing model was the original one - adjusting embedded layers and number of heads did not improve performance. Below, we define a testing function and test on sample sentences."
   ]
  },
  {
   "cell_type": "code",
   "execution_count": 154,
   "metadata": {},
   "outputs": [],
   "source": [
    "def test_model_on_sentence(sentence, model, char_to_int, L):\n",
    "    \"\"\"\n",
    "    Test the trained model on a specific input sentence.\n",
    "\n",
    "    Args:\n",
    "    - sentence (str): The input sentence to classify.\n",
    "    - model (nn.Module): The trained LSTM model.\n",
    "    - char_to_int (dict): The character-to-integer mapping.\n",
    "    - L (int): The length to pad/truncate the sentence to.\n",
    "\n",
    "    Returns:\n",
    "    - None: Prints out whether the sentence is classified as English or Spanish.\n",
    "    \"\"\"\n",
    "\n",
    "    # Preprocess the sentence: convert characters to integer indices\n",
    "    sentence = sentence[:L]  # Truncate if longer than L\n",
    "    sentence = sentence + ' ' * (L - len(sentence))  # Pad with spaces if shorter than L\n",
    "    sentence_indices = [char_to_int.get(c, 0) for c in sentence]  # Convert to integer mapping\n",
    "\n",
    "    # Convert to tensor and add batch dimension\n",
    "    input_tensor = torch.tensor([sentence_indices], dtype=torch.long)\n",
    "\n",
    "    # Set model to evaluation mode\n",
    "    model.eval()\n",
    "\n",
    "    # Pass the input through the model\n",
    "    with torch.no_grad():\n",
    "        output = model(input_tensor)\n",
    "        _, predicted_label = torch.max(output, 1)  # Get the index of the max logit\n",
    "\n",
    "    # Interpret the result\n",
    "    if predicted_label.item() == 0:\n",
    "        print(f\"The sentence is classified as English: '{sentence.strip()}'\")\n",
    "    else:\n",
    "        print(f\"The sentence is classified as Spanish: '{sentence.strip()}'\")\n"
   ]
  },
  {
   "cell_type": "code",
   "execution_count": 155,
   "metadata": {},
   "outputs": [
    {
     "name": "stdout",
     "output_type": "stream",
     "text": [
      "The sentence is classified as English: 'This is a test sentence.'\n",
      "The sentence is classified as English: 'Esta es una frase en inglés.'\n",
      "The sentence is classified as English: 'I like pie.'\n",
      "The sentence is classified as English: 'Esta es una frase.'\n",
      "The sentence is classified as Spanish: 'Soy de la ciudad y me gustan los plátanos y me gusta el color verde y tengo'\n",
      "The sentence is classified as Spanish: 'Yo soy de la ciudad y me gustan los plátanos y me gusta el color verde y te'\n"
     ]
    }
   ],
   "source": [
    "# Example usage:\n",
    "test_model_on_sentence(\"This is a test sentence.\", model, char_to_int, L)\n",
    "test_model_on_sentence(\"Esta es una frase en inglés.\", model, char_to_int, L)\n",
    "test_model_on_sentence(\"I like pie.\", model, char_to_int, L)\n",
    "test_model_on_sentence(\"Esta es una frase.\", model, char_to_int, L)\n",
    "test_model_on_sentence(\"Soy de la ciudad y me gustan los plátanos y me gusta el color verde y tengo el pelo oscuro.\", model, char_to_int, L)\n",
    "test_model_on_sentence(\"Yo soy de la ciudad y me gustan los plátanos y me gusta el color verde y tengo el pelo oscuro.\", model, char_to_int, L)"
   ]
  },
  {
   "cell_type": "markdown",
   "metadata": {},
   "source": [
    "\n",
    "\n",
    "Looking at the results above, it looks like our model performs pretty well with the above inputs, with only 2 of them being incorrect. It seems that our model performs better on longer sentences. Our intuition is that the model does not perform as well with sentences that are smaller than the input batches we used (75 characters) for the training, which is why the 4th example fails, since it is a short Spanish sentence.\n"
   ]
  },
  {
   "cell_type": "markdown",
   "metadata": {},
   "source": [
    "### Part 2: Finetuning a Pretrained Language Model\n",
    "\n",
    "Find a pretrained BERT language model and\n",
    "extract features from the output of the last Transformer layer."
   ]
  },
  {
   "cell_type": "code",
   "execution_count": 188,
   "metadata": {
    "colab": {
     "base_uri": "https://localhost:8080/"
    },
    "id": "2HFO3dUJVYln",
    "outputId": "b4d04c0a-7a5e-4d69-c74c-e6e50aa4d7e2"
   },
   "outputs": [],
   "source": [
    "# Load pretrained BERT model and tokenizer\n",
    "model_name = \"bert-base-uncased\"\n",
    "tokenizer = BertTokenizer.from_pretrained(model_name)\n",
    "bert_model = BertModel.from_pretrained(model_name)\n",
    "\n",
    "\n",
    "def extract_sentence_features(sentence, model):\n",
    "    # Tokenize input\n",
    "    inputs = tokenizer(sentence, return_tensors=\"pt\")\n",
    "\n",
    "    # Extract features from the last transformer layer\n",
    "    with torch.no_grad():\n",
    "        outputs = model(**inputs)\n",
    "\n",
    "    # The last hidden states are the output of the last Transformer layer\n",
    "    # `outputs.last_hidden_state` has shape (batch_size, sequence_length, hidden_size)\n",
    "    last_hidden_states = outputs.last_hidden_state\n",
    "\n",
    "    # For example, extracting features for each token\n",
    "    print(\"Shape of last_hidden_states:\", last_hidden_states.shape)\n",
    "    print(\"Features for each token in the sentence:\", last_hidden_states)\n"
   ]
  },
  {
   "cell_type": "markdown",
   "metadata": {},
   "source": [
    "Display features:"
   ]
  },
  {
   "cell_type": "code",
   "execution_count": 189,
   "metadata": {
    "colab": {
     "base_uri": "https://localhost:8080/"
    },
    "id": "SK1Z4w4VZFbT",
    "outputId": "b35b1763-d409-4669-d5c1-72de56a7a544"
   },
   "outputs": [
    {
     "name": "stdout",
     "output_type": "stream",
     "text": [
      "Shape of last_hidden_states: torch.Size([1, 6, 768])\n",
      "Features for each token in the sentence: tensor([[[ 0.2612,  0.1177,  0.0588,  ..., -0.2571, -0.3038,  0.0414],\n",
      "         [ 0.3374,  0.1897, -0.1236,  ...,  0.0223, -0.4033, -0.2017],\n",
      "         [ 0.0817,  0.8534,  0.9179,  ..., -0.0672, -0.4596, -0.1705],\n",
      "         [-0.7767, -0.4385,  0.5462,  ...,  0.5063, -0.9121, -0.9561],\n",
      "         [ 0.0695,  0.2763,  0.3504,  ..., -0.5594, -0.8722, -0.2562],\n",
      "         [ 0.7623, -0.1646, -0.0682,  ..., -0.0475, -0.6291, -0.2580]]])\n"
     ]
    }
   ],
   "source": [
    "extract_sentence_features('anything whatever you want', bert_model)"
   ]
  },
  {
   "cell_type": "markdown",
   "metadata": {},
   "source": [
    "The following pieces of code process the dataset in a similar manner to the Part 1, but instead do not perform an integer encoding and leave it as strings."
   ]
  },
  {
   "cell_type": "code",
   "execution_count": 190,
   "metadata": {
    "id": "u-N1Y13uZFbT"
   },
   "outputs": [],
   "source": [
    "def slice_and_label_no_num(text, label, L):\n",
    "    \"\"\"\n",
    "    Slices the input text into chunks of length L, converts characters to integers,\n",
    "    and labels them.\n",
    "\n",
    "    Args:\n",
    "    - text: string, input long text.\n",
    "    - label: integer, 0 for English, 1 for Spanish.\n",
    "    - L: int, length of each chunk.\n",
    "\n",
    "    Returns:\n",
    "    - A list of (chunk, label) tuples.\n",
    "    \"\"\"\n",
    "    data = []\n",
    "    # Slice the text into chunks of length L\n",
    "    for i in range(0, len(text), L):\n",
    "        chunk = text[i:i+L]\n",
    "        # If the chunk is shorter than L, pad with spaces\n",
    "        chunk = chunk + ' ' * (L - len(chunk))\n",
    "        # Add (chunk, label) to the data list\n",
    "        data.append((chunk, label))\n",
    "    return data"
   ]
  },
  {
   "cell_type": "code",
   "execution_count": 191,
   "metadata": {
    "id": "7cxaxITNZFbT"
   },
   "outputs": [],
   "source": [
    "# Preprocess English and Spanish\n",
    "\n",
    "english = slice_and_label_no_num(data_english, 0, L)\n",
    "spanish = slice_and_label_no_num(data_spanish, 1, L)"
   ]
  },
  {
   "cell_type": "code",
   "execution_count": 192,
   "metadata": {
    "id": "W5PVejxbZFbT"
   },
   "outputs": [],
   "source": [
    "from datasets import Dataset\n",
    "\n",
    "# Combine and shuffle the data\n",
    "combined_data = english + spanish\n",
    "random.shuffle(combined_data)\n",
    "\n",
    "X = [x[0] for x in combined_data]\n",
    "y = torch.tensor([x[1] for x in combined_data])\n",
    "\n",
    "def my_gen():\n",
    "    for i in range(len(X)):\n",
    "        yield {'text': X[i], 'label':y[i]}\n"
   ]
  },
  {
   "cell_type": "code",
   "execution_count": 193,
   "metadata": {
    "colab": {
     "base_uri": "https://localhost:8080/",
     "height": 69,
     "referenced_widgets": [
      "7c5378fde6594374bd49ff1c6ee61e8e",
      "84570d5aabfe4b6e85852a12785c63d9",
      "d137729199814b30af89bad34acebc1a",
      "a17d83f0fca545e6bb9d67cdb48f2185",
      "4a67f7a8a91e464cac67afe18c1ba96e",
      "e383582ff3a841d5a0cff7c7399f9fa6",
      "9c7c2251a8064fe4b5a2a2af5b382694",
      "08258dc680e14d29b934bea5ae665727",
      "93a3f32e7a7c4e328d5933afc4d3d2d5",
      "9e1fcf424e3a47b5b35a6752c967d580",
      "a1ea76e96bfd4a1cb1353c10029c35f9"
     ]
    },
    "id": "ihSh-W5pZFbT",
    "outputId": "2d4f9c68-69af-4945-9a62-65e1449b3c96"
   },
   "outputs": [],
   "source": [
    "dataset = Dataset.from_generator(my_gen)"
   ]
  },
  {
   "cell_type": "code",
   "execution_count": 194,
   "metadata": {
    "colab": {
     "base_uri": "https://localhost:8080/",
     "height": 157,
     "referenced_widgets": [
      "a926d2c2bd1e4c2093aecdbdc543bf1d",
      "127177d5ea504bb6a2f8321d962f13fd",
      "58acc6bf1ae34da79187cc1e2d22189c",
      "5627857a16d548058cd80231e5d34ada",
      "6d1fd2f9085840cfbed27c2108d27db0",
      "0f278f54642d4200ad07c170322e8a9c",
      "840cc84354494e6c9a8925a8d63f0fff",
      "c81d723bb0cb4f0d93a52aadff2ea568",
      "06a4fbff65da4da4a820795772b1cd0c",
      "3e7ea9c835c2485ca415d799ec3c7c78",
      "7c87bd2b29a348b79dc153ac0cac49cc",
      "ad0cca72673a4d7dab0d2ef5137384fd",
      "eb161e7813a64cc1bbadaf8dc229095f",
      "38fedc7a8839414aa7a279ffa5658fba",
      "3a45efe3f2df45778c89f22c96dbf87d",
      "7287384860794f32bbbf26b2cdff38d6",
      "de88870dfa534569a07aa52dfe9a2b9a",
      "ae0e766118c24b09951720ae931d544c",
      "69a92a26a3bb4ce1a098155564dd61ca",
      "28d95553e3ac4ca4bea46cc5da05e1a6",
      "025d2290af99474db1a249af3290dfbb",
      "053afd02d37c4b38837b31eb3ef66a04"
     ]
    },
    "id": "x_EvspSzZFbT",
    "outputId": "156c0290-f5d6-486d-c782-e486decd89ef"
   },
   "outputs": [],
   "source": [
    "dataset = dataset.class_encode_column('label')"
   ]
  },
  {
   "cell_type": "code",
   "execution_count": 195,
   "metadata": {
    "colab": {
     "base_uri": "https://localhost:8080/"
    },
    "id": "O12YW7jwZFbU",
    "outputId": "cbe97cd4-f5de-4f6e-8cd7-277c160dfc94"
   },
   "outputs": [
    {
     "name": "stderr",
     "output_type": "stream",
     "text": [
      "Some weights of BertForSequenceClassification were not initialized from the model checkpoint at google-bert/bert-base-uncased and are newly initialized: ['classifier.bias', 'classifier.weight']\n",
      "You should probably TRAIN this model on a down-stream task to be able to use it for predictions and inference.\n"
     ]
    }
   ],
   "source": [
    "from transformers import BertForSequenceClassification\n",
    "\n",
    "tokenizer = BertTokenizer.from_pretrained(\"google-bert/bert-base-uncased\")\n",
    "\n",
    "inputs = tokenizer(X, padding=True, truncation=True, return_tensors='pt')\n",
    "\n",
    "\n",
    "model = BertForSequenceClassification.from_pretrained(\"google-bert/bert-base-uncased\", num_labels=2)\n"
   ]
  },
  {
   "cell_type": "code",
   "execution_count": 196,
   "metadata": {
    "id": "PpSi94mPZFbU"
   },
   "outputs": [],
   "source": [
    "def tokenize_function(examples):\n",
    "    return tokenizer(examples['text'], padding='max_length', truncation=True)\n"
   ]
  },
  {
   "cell_type": "code",
   "execution_count": 197,
   "metadata": {
    "colab": {
     "base_uri": "https://localhost:8080/",
     "height": 69,
     "referenced_widgets": [
      "c820310bdd804013a11443d37b283797",
      "203502fffbe2459e8e5ce3747ee92dd0",
      "d9bf46a771b8439892ed8cfc0d675099",
      "4cdaa477a3874745b73b0975c3bf184c",
      "56c80ed54b8e43ce931a2179b16d4944",
      "a76ff2292eb248e3ab18392128a8d830",
      "527758467d8e4311b0d5edf305f77e1e",
      "3e303dc145d247a9a29182b5022e808b",
      "f4b6bc2036664fe4a06505c4bed23855",
      "73ccb85bd29b4e91889911755933135d",
      "269fabdd40d446cf9035f07d1579ce28"
     ]
    },
    "id": "DMFPGbIoZFbU",
    "outputId": "6b12cb95-a124-4238-b8fc-0ce31548d580"
   },
   "outputs": [],
   "source": [
    "tokenized_datasets = dataset.map(tokenize_function, batched=True)"
   ]
  },
  {
   "cell_type": "code",
   "execution_count": 198,
   "metadata": {
    "id": "gBeE0muEZFbU"
   },
   "outputs": [],
   "source": [
    "tokenized_datasets = tokenized_datasets.train_test_split(test_size=0.2)"
   ]
  },
  {
   "cell_type": "code",
   "execution_count": 199,
   "metadata": {
    "colab": {
     "base_uri": "https://localhost:8080/"
    },
    "id": "PlDXyckab5kO",
    "outputId": "852773f2-a0d3-4ef5-e96b-414a216481fa"
   },
   "outputs": [],
   "source": [
    "# !pip install evaluate"
   ]
  },
  {
   "cell_type": "code",
   "execution_count": 200,
   "metadata": {
    "colab": {
     "base_uri": "https://localhost:8080/",
     "height": 69,
     "referenced_widgets": [
      "1da7eaf4ee4a46dcb880bc3beec33112",
      "1b31a9a2a9674ef2a30a4a2bc5deda3f",
      "394bd4c982644548ad852c39ccca1a51",
      "9b7e307cf6b44a4fb85864cf69eaf433",
      "b31773de75e1420dadac1bc03556143e",
      "67530cf63c2440e197e4e69fb9a1c3c2",
      "27a57b0abb134ffab3c98e6c37b0e5b2",
      "188e0a6833d04f1d85f17ed82e29b51c",
      "f9784f33086e4515abdc95eff6cb0bb9",
      "1432e68bc2694481bbd870fc721adec8",
      "9edd746e64bc492f8cd83844db806acc"
     ]
    },
    "id": "HgI7VJ67ZFbU",
    "outputId": "7fe4fec4-b084-4caa-ce22-46f5bf4f1264"
   },
   "outputs": [],
   "source": [
    "import evaluate\n",
    "\n",
    "metric = evaluate.load(\"accuracy\")\n",
    "def compute_metrics(eval_pred):\n",
    "    logits, labels = eval_pred\n",
    "    predictions = np.argmax(logits, axis=-1)\n",
    "    # predictions = np.argmax(logits, axis=1)\n",
    "    return metric.compute(predictions=predictions, references=labels)\n"
   ]
  },
  {
   "cell_type": "markdown",
   "metadata": {},
   "source": [
    "Set up the linear probe model here and train."
   ]
  },
  {
   "cell_type": "code",
   "execution_count": 202,
   "metadata": {
    "colab": {
     "base_uri": "https://localhost:8080/",
     "height": 221
    },
    "id": "PLLlGTVpZFbU",
    "outputId": "ac17bb6f-c7d0-47a1-fffe-838e1dc2f753"
   },
   "outputs": [],
   "source": [
    "from transformers import TrainingArguments, Trainer\n",
    "\n",
    "training_args = TrainingArguments(eval_strategy=\"steps\",\n",
    "                                  num_train_epochs=1,\n",
    "                                  per_device_train_batch_size=4,\n",
    "                                  logging_steps=50,\n",
    "                                  per_device_eval_batch_size=4,\n",
    "                                  eval_steps=50,\n",
    "                                  output_dir='/Users/katie/Library/CloudStorage/OneDrive-HarveyMuddCollege/2024 Fall/E208/hw8'\n",
    ")\n",
    "\n",
    "trainer = Trainer(\n",
    "    model=model,\n",
    "    args=training_args,\n",
    "    train_dataset=tokenized_datasets['train'],\n",
    "    eval_dataset=tokenized_datasets['test'],\n",
    "    compute_metrics=compute_metrics,\n",
    ")"
   ]
  },
  {
   "cell_type": "code",
   "execution_count": 203,
   "metadata": {
    "id": "VP4k4-mkcV58"
   },
   "outputs": [],
   "source": [
    "import os\n",
    "os.environ[\"WANDB_MODE\"] = \"disabled\""
   ]
  },
  {
   "cell_type": "code",
   "execution_count": 204,
   "metadata": {
    "colab": {
     "base_uri": "https://localhost:8080/",
     "height": 375
    },
    "id": "CsvHNLhRZFbV",
    "outputId": "91c621a3-2a69-4ee0-fe3d-96afd67defd2"
   },
   "outputs": [
    {
     "data": {
      "application/vnd.jupyter.widget-view+json": {
       "model_id": "ab674b4f5cb14324a53e4b33abe901cc",
       "version_major": 2,
       "version_minor": 0
      },
      "text/plain": [
       "  0%|          | 0/161 [00:00<?, ?it/s]"
      ]
     },
     "metadata": {},
     "output_type": "display_data"
    },
    {
     "name": "stdout",
     "output_type": "stream",
     "text": [
      "{'loss': 0.0889, 'grad_norm': 0.01796558126807213, 'learning_rate': 3.4472049689440996e-05, 'epoch': 0.31}\n"
     ]
    },
    {
     "data": {
      "application/vnd.jupyter.widget-view+json": {
       "model_id": "05088f15921c44c696455775a987b425",
       "version_major": 2,
       "version_minor": 0
      },
      "text/plain": [
       "  0%|          | 0/41 [00:00<?, ?it/s]"
      ]
     },
     "metadata": {},
     "output_type": "display_data"
    },
    {
     "name": "stdout",
     "output_type": "stream",
     "text": [
      "{'eval_loss': 0.0007501810905523598, 'eval_accuracy': 1.0, 'eval_runtime': 34.3143, 'eval_samples_per_second': 4.692, 'eval_steps_per_second': 1.195, 'epoch': 0.31}\n",
      "{'loss': 0.0017, 'grad_norm': 0.018049847334623337, 'learning_rate': 1.894409937888199e-05, 'epoch': 0.62}\n"
     ]
    },
    {
     "data": {
      "application/vnd.jupyter.widget-view+json": {
       "model_id": "0fea8977e2734e3f8e0040ed32fb2670",
       "version_major": 2,
       "version_minor": 0
      },
      "text/plain": [
       "  0%|          | 0/41 [00:00<?, ?it/s]"
      ]
     },
     "metadata": {},
     "output_type": "display_data"
    },
    {
     "name": "stdout",
     "output_type": "stream",
     "text": [
      "{'eval_loss': 0.0003260535595472902, 'eval_accuracy': 1.0, 'eval_runtime': 30.9559, 'eval_samples_per_second': 5.201, 'eval_steps_per_second': 1.324, 'epoch': 0.62}\n",
      "{'loss': 0.0004, 'grad_norm': 0.008572904393076897, 'learning_rate': 3.4161490683229816e-06, 'epoch': 0.93}\n"
     ]
    },
    {
     "data": {
      "application/vnd.jupyter.widget-view+json": {
       "model_id": "94f523c9489f4dfa933771d8f982f60f",
       "version_major": 2,
       "version_minor": 0
      },
      "text/plain": [
       "  0%|          | 0/41 [00:00<?, ?it/s]"
      ]
     },
     "metadata": {},
     "output_type": "display_data"
    },
    {
     "name": "stdout",
     "output_type": "stream",
     "text": [
      "{'eval_loss': 0.00024153402773663402, 'eval_accuracy': 1.0, 'eval_runtime': 27.8409, 'eval_samples_per_second': 5.783, 'eval_steps_per_second': 1.473, 'epoch': 0.93}\n",
      "{'train_runtime': 542.3291, 'train_samples_per_second': 1.184, 'train_steps_per_second': 0.297, 'train_loss': 0.028304172457074343, 'epoch': 1.0}\n"
     ]
    }
   ],
   "source": [
    "train_result = trainer.train()"
   ]
  },
  {
   "cell_type": "markdown",
   "metadata": {},
   "source": [
    "\n",
    "\n",
    "Access training logs for plotting.\n"
   ]
  },
  {
   "cell_type": "code",
   "execution_count": 205,
   "metadata": {
    "colab": {
     "base_uri": "https://localhost:8080/",
     "height": 223
    },
    "id": "la3xYDXD6m3j",
    "outputId": "e809b919-bac5-45ca-aecc-b3aa4db9b22a"
   },
   "outputs": [
    {
     "data": {
      "image/png": "[encoded data removed]",
      "text/plain": [
       "<Figure size 1200x500 with 2 Axes>"
      ]
     },
     "metadata": {},
     "output_type": "display_data"
    }
   ],
   "source": [
    "# Access training logs\n",
    "train_logs = trainer.state.log_history\n",
    "\n",
    "train_loss = []\n",
    "eval_loss = []\n",
    "train_accuracy = []\n",
    "eval_accuracy = []\n",
    "\n",
    "for log in train_logs:\n",
    "    if 'loss' in log:\n",
    "        train_loss.append(log['loss'])\n",
    "    if 'eval_loss' in log:\n",
    "        eval_loss.append(log['eval_loss'])\n",
    "    if 'eval_accuracy' in log:\n",
    "        eval_accuracy.append(log['eval_accuracy'])\n",
    "    if 'accuracy' in log:\n",
    "        train_accuracy.append(log['accuracy'])\n",
    "\n",
    "# Create a step range for plotting\n",
    "steps = range(1, len(train_loss) + 1)\n",
    "\n",
    "plt.figure(figsize=(12, 5))\n",
    "\n",
    "plt.subplot(1, 2, 1)\n",
    "plt.plot(steps, train_loss, label='Training Loss', color='blue')\n",
    "plt.plot(steps, eval_loss, label='Validation Loss', color='orange')\n",
    "plt.title('Training and Validation Loss')\n",
    "plt.xlabel('Steps')\n",
    "plt.ylabel('Loss')\n",
    "plt.legend()\n",
    "\n",
    "# Plotting accuracy\n",
    "plt.subplot(1, 2, 2)\n",
    "plt.plot(steps, eval_accuracy, label='Training Accuracy', color='blue')\n",
    "plt.title('Training and Validation Accuracy')\n",
    "plt.xlabel('Steps')\n",
    "plt.ylabel('Accuracy')\n",
    "plt.legend()\n",
    "\n",
    "plt.tight_layout()\n",
    "plt.show()"
   ]
  },
  {
   "cell_type": "markdown",
   "metadata": {},
   "source": [
    "\n",
    "\n",
    "We can see a great jump in performance compared to the training model in Part 1, with losses dropping significantly and accuracy reaching 99%.\n",
    "\n",
    "Unfreeze the model and train and plot again.\n"
   ]
  },
  {
   "cell_type": "code",
   "execution_count": 206,
   "metadata": {
    "colab": {
     "base_uri": "https://localhost:8080/"
    },
    "id": "SDLLs9ni9eAd",
    "outputId": "92ef7a45-d706-4229-a525-71d573a4ec70"
   },
   "outputs": [
    {
     "name": "stderr",
     "output_type": "stream",
     "text": [
      "/opt/anaconda3/envs/E208_F24/lib/python3.11/site-packages/transformers/training_args.py:1559: FutureWarning: `evaluation_strategy` is deprecated and will be removed in version 4.46 of 🤗 Transformers. Use `eval_strategy` instead\n",
      "  warnings.warn(\n"
     ]
    }
   ],
   "source": [
    "# unfreeze model\n",
    "\n",
    "for param in model.parameters():\n",
    "    param.requires_grad = True\n",
    "\n",
    "# Optionally adjust training arguments for fine-tuning\n",
    "fine_tuning_training_args = TrainingArguments(\n",
    "    output_dir='/Users/katie/Library/CloudStorage/OneDrive-HarveyMuddCollege/2024 Fall/E208/hw8',  # Adjust as needed\n",
    "    num_train_epochs=1,  # Number of epochs for fine-tuning\n",
    "    per_device_train_batch_size=4,\n",
    "    per_device_eval_batch_size=4,\n",
    "    evaluation_strategy=\"steps\",\n",
    "    logging_steps=50,\n",
    "    eval_steps=50,\n",
    "    logging_dir='./logs_fine_tuning'  # Separate logging directory\n",
    ")\n",
    "\n",
    "# Create a new Trainer instance for fine-tuning\n",
    "fine_tuning_trainer = Trainer(\n",
    "    model=model,\n",
    "    args=fine_tuning_training_args,\n",
    "    train_dataset=tokenized_datasets['train'],\n",
    "    eval_dataset=tokenized_datasets['test'],\n",
    "    compute_metrics=compute_metrics,\n",
    ")\n",
    "\n"
   ]
  },
  {
   "cell_type": "code",
   "execution_count": 207,
   "metadata": {
    "id": "04L2ZXcVqYZ2"
   },
   "outputs": [],
   "source": [
    "os.environ[\"WANDB_MODE\"] = \"disabled\""
   ]
  },
  {
   "cell_type": "code",
   "execution_count": 208,
   "metadata": {
    "colab": {
     "base_uri": "https://localhost:8080/",
     "height": 397
    },
    "id": "44eUbltM-JZO",
    "outputId": "0cbeebcc-606c-4eaa-a584-d216f967bfd2"
   },
   "outputs": [
    {
     "data": {
      "application/vnd.jupyter.widget-view+json": {
       "model_id": "026266338051407ab51392a4f9054e68",
       "version_major": 2,
       "version_minor": 0
      },
      "text/plain": [
       "  0%|          | 0/161 [00:00<?, ?it/s]"
      ]
     },
     "metadata": {},
     "output_type": "display_data"
    },
    {
     "name": "stdout",
     "output_type": "stream",
     "text": [
      "{'loss': 0.0001, 'grad_norm': 0.00016768646310083568, 'learning_rate': 3.4472049689440996e-05, 'epoch': 0.31}\n"
     ]
    },
    {
     "data": {
      "application/vnd.jupyter.widget-view+json": {
       "model_id": "c68796c64d5d449c9715df1ca4248e03",
       "version_major": 2,
       "version_minor": 0
      },
      "text/plain": [
       "  0%|          | 0/41 [00:00<?, ?it/s]"
      ]
     },
     "metadata": {},
     "output_type": "display_data"
    },
    {
     "name": "stdout",
     "output_type": "stream",
     "text": [
      "{'eval_loss': 4.2648689486668445e-06, 'eval_accuracy': 1.0, 'eval_runtime': 35.0151, 'eval_samples_per_second': 4.598, 'eval_steps_per_second': 1.171, 'epoch': 0.31}\n",
      "{'loss': 0.0, 'grad_norm': 0.00015435507521033287, 'learning_rate': 1.894409937888199e-05, 'epoch': 0.62}\n"
     ]
    },
    {
     "data": {
      "application/vnd.jupyter.widget-view+json": {
       "model_id": "ebcfab10d4d34abc8e58ef7f4631e09f",
       "version_major": 2,
       "version_minor": 0
      },
      "text/plain": [
       "  0%|          | 0/41 [00:00<?, ?it/s]"
      ]
     },
     "metadata": {},
     "output_type": "display_data"
    },
    {
     "name": "stdout",
     "output_type": "stream",
     "text": [
      "{'eval_loss': 2.7729074645321816e-06, 'eval_accuracy': 1.0, 'eval_runtime': 27.0916, 'eval_samples_per_second': 5.943, 'eval_steps_per_second': 1.513, 'epoch': 0.62}\n",
      "{'loss': 0.0, 'grad_norm': 9.212099394062534e-05, 'learning_rate': 3.4161490683229816e-06, 'epoch': 0.93}\n"
     ]
    },
    {
     "data": {
      "application/vnd.jupyter.widget-view+json": {
       "model_id": "dd050179a7704847828585344ea3dc62",
       "version_major": 2,
       "version_minor": 0
      },
      "text/plain": [
       "  0%|          | 0/41 [00:00<?, ?it/s]"
      ]
     },
     "metadata": {},
     "output_type": "display_data"
    },
    {
     "name": "stdout",
     "output_type": "stream",
     "text": [
      "{'eval_loss': 2.4108383058774052e-06, 'eval_accuracy': 1.0, 'eval_runtime': 27.3481, 'eval_samples_per_second': 5.887, 'eval_steps_per_second': 1.499, 'epoch': 0.93}\n",
      "{'train_runtime': 533.7468, 'train_samples_per_second': 1.203, 'train_steps_per_second': 0.302, 'train_loss': 2.8237779187298848e-05, 'epoch': 1.0}\n"
     ]
    },
    {
     "data": {
      "text/plain": [
       "TrainOutput(global_step=161, training_loss=2.8237779187298848e-05, metrics={'train_runtime': 533.7468, 'train_samples_per_second': 1.203, 'train_steps_per_second': 0.302, 'total_flos': 168917297541120.0, 'train_loss': 2.8237779187298848e-05, 'epoch': 1.0})"
      ]
     },
     "execution_count": 208,
     "metadata": {},
     "output_type": "execute_result"
    }
   ],
   "source": [
    "fine_tuning_trainer.train()"
   ]
  },
  {
   "cell_type": "code",
   "execution_count": 209,
   "metadata": {
    "id": "abfad2eB-NkI"
   },
   "outputs": [
    {
     "data": {
      "image/png": "[encoded data removed]",
      "text/plain": [
       "<Figure size 1200x500 with 2 Axes>"
      ]
     },
     "metadata": {},
     "output_type": "display_data"
    }
   ],
   "source": [
    "# Access training logs\n",
    "train_logs = fine_tuning_trainer.state.log_history\n",
    "\n",
    "# Prepare data for plotting\n",
    "train_loss = []\n",
    "eval_loss = []\n",
    "train_accuracy = []\n",
    "eval_accuracy = []\n",
    "\n",
    "for log in train_logs:\n",
    "    if 'loss' in log:\n",
    "        train_loss.append(log['loss'])\n",
    "    if 'eval_loss' in log:\n",
    "        eval_loss.append(log['eval_loss'])\n",
    "    if 'eval_accuracy' in log:\n",
    "        eval_accuracy.append(log['eval_accuracy'])\n",
    "    if 'accuracy' in log:\n",
    "        train_accuracy.append(log['accuracy'])\n",
    "\n",
    "\n",
    "# Create a step range for plotting\n",
    "steps = range(1, len(train_loss) + 1)\n",
    "\n",
    "# Plotting loss and accuracy\n",
    "plt.figure(figsize=(12, 5))\n",
    "\n",
    "# Plotting loss\n",
    "plt.subplot(1, 2, 1)\n",
    "plt.plot(steps, train_loss, label='Training Loss', color='blue')\n",
    "plt.plot(steps, eval_loss, label='Validation Loss', color='orange')\n",
    "plt.title('Training and Validation Loss')\n",
    "plt.xlabel('Steps')\n",
    "plt.ylabel('Loss')\n",
    "plt.legend()\n",
    "\n",
    "# Plotting accuracy\n",
    "plt.subplot(1, 2, 2)\n",
    "plt.plot(steps, eval_accuracy, label='Validation Accuracy', color='orange')\n",
    "plt.title('Training and Validation Accuracy')\n",
    "plt.xlabel('Steps')\n",
    "plt.ylabel('Accuracy')\n",
    "plt.legend()\n",
    "\n",
    "plt.tight_layout()\n",
    "plt.show()"
   ]
  },
  {
   "cell_type": "markdown",
   "metadata": {},
   "source": [
    "The finetuned model had the same accuracy as the linear probe, probably because we had such a small dataset. There were a lot of issues with getting the model from hugging face to run. It took longer than I would have expected for such a small dataset. "
   ]
  },
  {
   "cell_type": "markdown",
   "metadata": {},
   "source": [
    "### Part 3: Prompting a Foundation Model"
   ]
  },
  {
   "cell_type": "markdown",
   "metadata": {},
   "source": [
    "The sun sets beautifully over the horizon.\n",
    "She enjoys reading books in her free time.\n",
    "El sol se pone hermosamente sobre el horizonte.\n",
    "The dog barked loudly at the passing car.\n",
    "A ella le gusta leer libros en su tiempo libre.\n",
    "They plan to travel to Europe next summer.\n",
    "El perro ladró fuertemente al coche que pasaba.\n",
    "He makes the best chocolate chip cookies.\n",
    "Ellos planean viajar a Europa el próximo verano.\n",
    "Él hace las mejores galletas de chispas de chocolate.\n",
    "\n",
    "Were the sentences we used.\n",
    "\n",
    "We noticed first of all that we had to be very specific when prompting Chat on what the output we wanted was. We had to specify very clearly that we wanted to classify each sentence as either English or Spanish for all 10 sentences, otherwise when we would run it it would only classify the first, or only extract the English sentences. For example, \"english or spanish?\" followed by the list produced incomplete answers. Additionally, formatting was super important because if the sentences were not formatted in a clear and consistent way, the prompt would not generate an accuracte answer. For example, when the sentences were together in a single paragraph, the model could not provide distinguished answers by the sentence. We settled on providing the sentences as a bulleted list.\n",
    "\n",
    "Our final prompt that seemed to provide the best answers was:"
   ]
  },
  {
   "cell_type": "code",
   "execution_count": 167,
   "metadata": {},
   "outputs": [
    {
     "ename": "NameError",
     "evalue": "name 'get_completion' is not defined",
     "output_type": "error",
     "traceback": [
      "\u001b[0;31m---------------------------------------------------------------------------\u001b[0m",
      "\u001b[0;31mNameError\u001b[0m                                 Traceback (most recent call last)",
      "Cell \u001b[0;32mIn[167], line 16\u001b[0m\n\u001b[1;32m      1\u001b[0m prompt \u001b[38;5;241m=\u001b[39m \u001b[38;5;124mf\u001b[39m\u001b[38;5;124m\"\"\"\u001b[39m\n\u001b[1;32m      2\u001b[0m \u001b[38;5;124mDecide if the following sentences are English or Spanish:\u001b[39m\n\u001b[1;32m      3\u001b[0m \n\u001b[0;32m   (...)\u001b[0m\n\u001b[1;32m     14\u001b[0m \n\u001b[1;32m     15\u001b[0m \u001b[38;5;124m\"\"\"\u001b[39m\n\u001b[0;32m---> 16\u001b[0m response \u001b[38;5;241m=\u001b[39m get_completion(prompt)\n\u001b[1;32m     17\u001b[0m \u001b[38;5;28mprint\u001b[39m(response)\n",
      "\u001b[0;31mNameError\u001b[0m: name 'get_completion' is not defined"
     ]
    }
   ],
   "source": [
    "prompt = f\"\"\"\n",
    "Decide if the following sentences are English or Spanish:\n",
    "\n",
    "` The sun sets beautifully over the horizon.\n",
    "` She enjoys reading books in her free time.\n",
    "` El sol se pone hermosamente sobre el horizonte.\n",
    "` The dog barked loudly at the passing car.\n",
    "` A ella le gusta leer libros en su tiempo libre.\n",
    "` They plan to travel to Europe next summer.\n",
    "` El perro ladró fuertemente al coche que pasaba.\n",
    "` He makes the best chocolate chip cookies.\n",
    "` Ellos planean viajar a Europa el próximo verano.\n",
    "` Él hace las mejores galletas de chispas de chocolate.\n",
    "\n",
    "\"\"\"\n",
    "response = get_completion(prompt)\n",
    "print(response)"
   ]
  },
  {
   "cell_type": "markdown",
   "metadata": {},
   "source": [
    "We ran the above code cell in the course environment and got perfectly accurate answers this way outputted in a clear and easy to read format as we wanted. We also used this course environment to do a subset of the English and Spanish data, with losses nearing 0.13 and an accuracy of 98%."
   ]
  }
 ],
 "metadata": {
  "colab": {
   "provenance": []
  },
  "kernelspec": {
   "display_name": "E208_F24",
   "language": "python",
   "name": "python3"
  },
  "language_info": {
   "codemirror_mode": {
    "name": "ipython",
    "version": 3
   },
   "file_extension": ".py",
   "mimetype": "text/x-python",
   "name": "python",
   "nbconvert_exporter": "python",
   "pygments_lexer": "ipython3",
   "version": "3.11.9"
  },
  "widgets": {
   "application/vnd.jupyter.widget-state+json": {
    "025d2290af99474db1a249af3290dfbb": {
     "model_module": "@jupyter-widgets/base",
     "model_module_version": "1.2.0",
     "model_name": "LayoutModel",
     "state": {
      "_model_module": "@jupyter-widgets/base",
      "_model_module_version": "1.2.0",
      "_model_name": "LayoutModel",
      "_view_count": null,
      "_view_module": "@jupyter-widgets/base",
      "_view_module_version": "1.2.0",
      "_view_name": "LayoutView",
      "align_content": null,
      "align_items": null,
      "align_self": null,
      "border": null,
      "bottom": null,
      "display": null,
      "flex": null,
      "flex_flow": null,
      "grid_area": null,
      "grid_auto_columns": null,
      "grid_auto_flow": null,
      "grid_auto_rows": null,
      "grid_column": null,
      "grid_gap": null,
      "grid_row": null,
      "grid_template_areas": null,
      "grid_template_columns": null,
      "grid_template_rows": null,
      "height": null,
      "justify_content": null,
      "justify_items": null,
      "left": null,
      "margin": null,
      "max_height": null,
      "max_width": null,
      "min_height": null,
      "min_width": null,
      "object_fit": null,
      "object_position": null,
      "order": null,
      "overflow": null,
      "overflow_x": null,
      "overflow_y": null,
      "padding": null,
      "right": null,
      "top": null,
      "visibility": null,
      "width": null
     }
    },
    "053afd02d37c4b38837b31eb3ef66a04": {
     "model_module": "@jupyter-widgets/controls",
     "model_module_version": "1.5.0",
     "model_name": "DescriptionStyleModel",
     "state": {
      "_model_module": "@jupyter-widgets/controls",
      "_model_module_version": "1.5.0",
      "_model_name": "DescriptionStyleModel",
      "_view_count": null,
      "_view_module": "@jupyter-widgets/base",
      "_view_module_version": "1.2.0",
      "_view_name": "StyleView",
      "description_width": ""
     }
    },
    "06a4fbff65da4da4a820795772b1cd0c": {
     "model_module": "@jupyter-widgets/controls",
     "model_module_version": "1.5.0",
     "model_name": "ProgressStyleModel",
     "state": {
      "_model_module": "@jupyter-widgets/controls",
      "_model_module_version": "1.5.0",
      "_model_name": "ProgressStyleModel",
      "_view_count": null,
      "_view_module": "@jupyter-widgets/base",
      "_view_module_version": "1.2.0",
      "_view_name": "StyleView",
      "bar_color": null,
      "description_width": ""
     }
    },
    "08258dc680e14d29b934bea5ae665727": {
     "model_module": "@jupyter-widgets/base",
     "model_module_version": "1.2.0",
     "model_name": "LayoutModel",
     "state": {
      "_model_module": "@jupyter-widgets/base",
      "_model_module_version": "1.2.0",
      "_model_name": "LayoutModel",
      "_view_count": null,
      "_view_module": "@jupyter-widgets/base",
      "_view_module_version": "1.2.0",
      "_view_name": "LayoutView",
      "align_content": null,
      "align_items": null,
      "align_self": null,
      "border": null,
      "bottom": null,
      "display": null,
      "flex": null,
      "flex_flow": null,
      "grid_area": null,
      "grid_auto_columns": null,
      "grid_auto_flow": null,
      "grid_auto_rows": null,
      "grid_column": null,
      "grid_gap": null,
      "grid_row": null,
      "grid_template_areas": null,
      "grid_template_columns": null,
      "grid_template_rows": null,
      "height": null,
      "justify_content": null,
      "justify_items": null,
      "left": null,
      "margin": null,
      "max_height": null,
      "max_width": null,
      "min_height": null,
      "min_width": null,
      "object_fit": null,
      "object_position": null,
      "order": null,
      "overflow": null,
      "overflow_x": null,
      "overflow_y": null,
      "padding": null,
      "right": null,
      "top": null,
      "visibility": null,
      "width": "20px"
     }
    },
    "0f278f54642d4200ad07c170322e8a9c": {
     "model_module": "@jupyter-widgets/base",
     "model_module_version": "1.2.0",
     "model_name": "LayoutModel",
     "state": {
      "_model_module": "@jupyter-widgets/base",
      "_model_module_version": "1.2.0",
      "_model_name": "LayoutModel",
      "_view_count": null,
      "_view_module": "@jupyter-widgets/base",
      "_view_module_version": "1.2.0",
      "_view_name": "LayoutView",
      "align_content": null,
      "align_items": null,
      "align_self": null,
      "border": null,
      "bottom": null,
      "display": null,
      "flex": null,
      "flex_flow": null,
      "grid_area": null,
      "grid_auto_columns": null,
      "grid_auto_flow": null,
      "grid_auto_rows": null,
      "grid_column": null,
      "grid_gap": null,
      "grid_row": null,
      "grid_template_areas": null,
      "grid_template_columns": null,
      "grid_template_rows": null,
      "height": null,
      "justify_content": null,
      "justify_items": null,
      "left": null,
      "margin": null,
      "max_height": null,
      "max_width": null,
      "min_height": null,
      "min_width": null,
      "object_fit": null,
      "object_position": null,
      "order": null,
      "overflow": null,
      "overflow_x": null,
      "overflow_y": null,
      "padding": null,
      "right": null,
      "top": null,
      "visibility": null,
      "width": null
     }
    },
    "127177d5ea504bb6a2f8321d962f13fd": {
     "model_module": "@jupyter-widgets/controls",
     "model_module_version": "1.5.0",
     "model_name": "HTMLModel",
     "state": {
      "_dom_classes": [],
      "_model_module": "@jupyter-widgets/controls",
      "_model_module_version": "1.5.0",
      "_model_name": "HTMLModel",
      "_view_count": null,
      "_view_module": "@jupyter-widgets/controls",
      "_view_module_version": "1.5.0",
      "_view_name": "HTMLView",
      "description": "",
      "description_tooltip": null,
      "layout": "IPY_MODEL_0f278f54642d4200ad07c170322e8a9c",
      "placeholder": "​",
      "style": "IPY_MODEL_840cc84354494e6c9a8925a8d63f0fff",
      "value": "Stringifying the column: 100%"
     }
    },
    "1432e68bc2694481bbd870fc721adec8": {
     "model_module": "@jupyter-widgets/base",
     "model_module_version": "1.2.0",
     "model_name": "LayoutModel",
     "state": {
      "_model_module": "@jupyter-widgets/base",
      "_model_module_version": "1.2.0",
      "_model_name": "LayoutModel",
      "_view_count": null,
      "_view_module": "@jupyter-widgets/base",
      "_view_module_version": "1.2.0",
      "_view_name": "LayoutView",
      "align_content": null,
      "align_items": null,
      "align_self": null,
      "border": null,
      "bottom": null,
      "display": null,
      "flex": null,
      "flex_flow": null,
      "grid_area": null,
      "grid_auto_columns": null,
      "grid_auto_flow": null,
      "grid_auto_rows": null,
      "grid_column": null,
      "grid_gap": null,
      "grid_row": null,
      "grid_template_areas": null,
      "grid_template_columns": null,
      "grid_template_rows": null,
      "height": null,
      "justify_content": null,
      "justify_items": null,
      "left": null,
      "margin": null,
      "max_height": null,
      "max_width": null,
      "min_height": null,
      "min_width": null,
      "object_fit": null,
      "object_position": null,
      "order": null,
      "overflow": null,
      "overflow_x": null,
      "overflow_y": null,
      "padding": null,
      "right": null,
      "top": null,
      "visibility": null,
      "width": null
     }
    },
    "188e0a6833d04f1d85f17ed82e29b51c": {
     "model_module": "@jupyter-widgets/base",
     "model_module_version": "1.2.0",
     "model_name": "LayoutModel",
     "state": {
      "_model_module": "@jupyter-widgets/base",
      "_model_module_version": "1.2.0",
      "_model_name": "LayoutModel",
      "_view_count": null,
      "_view_module": "@jupyter-widgets/base",
      "_view_module_version": "1.2.0",
      "_view_name": "LayoutView",
      "align_content": null,
      "align_items": null,
      "align_self": null,
      "border": null,
      "bottom": null,
      "display": null,
      "flex": null,
      "flex_flow": null,
      "grid_area": null,
      "grid_auto_columns": null,
      "grid_auto_flow": null,
      "grid_auto_rows": null,
      "grid_column": null,
      "grid_gap": null,
      "grid_row": null,
      "grid_template_areas": null,
      "grid_template_columns": null,
      "grid_template_rows": null,
      "height": null,
      "justify_content": null,
      "justify_items": null,
      "left": null,
      "margin": null,
      "max_height": null,
      "max_width": null,
      "min_height": null,
      "min_width": null,
      "object_fit": null,
      "object_position": null,
      "order": null,
      "overflow": null,
      "overflow_x": null,
      "overflow_y": null,
      "padding": null,
      "right": null,
      "top": null,
      "visibility": null,
      "width": null
     }
    },
    "1b31a9a2a9674ef2a30a4a2bc5deda3f": {
     "model_module": "@jupyter-widgets/controls",
     "model_module_version": "1.5.0",
     "model_name": "HTMLModel",
     "state": {
      "_dom_classes": [],
      "_model_module": "@jupyter-widgets/controls",
      "_model_module_version": "1.5.0",
      "_model_name": "HTMLModel",
      "_view_count": null,
      "_view_module": "@jupyter-widgets/controls",
      "_view_module_version": "1.5.0",
      "_view_name": "HTMLView",
      "description": "",
      "description_tooltip": null,
      "layout": "IPY_MODEL_67530cf63c2440e197e4e69fb9a1c3c2",
      "placeholder": "​",
      "style": "IPY_MODEL_27a57b0abb134ffab3c98e6c37b0e5b2",
      "value": "Downloading builder script: 100%"
     }
    },
    "1da7eaf4ee4a46dcb880bc3beec33112": {
     "model_module": "@jupyter-widgets/controls",
     "model_module_version": "1.5.0",
     "model_name": "HBoxModel",
     "state": {
      "_dom_classes": [],
      "_model_module": "@jupyter-widgets/controls",
      "_model_module_version": "1.5.0",
      "_model_name": "HBoxModel",
      "_view_count": null,
      "_view_module": "@jupyter-widgets/controls",
      "_view_module_version": "1.5.0",
      "_view_name": "HBoxView",
      "box_style": "",
      "children": [
       "IPY_MODEL_1b31a9a2a9674ef2a30a4a2bc5deda3f",
       "IPY_MODEL_394bd4c982644548ad852c39ccca1a51",
       "IPY_MODEL_9b7e307cf6b44a4fb85864cf69eaf433"
      ],
      "layout": "IPY_MODEL_b31773de75e1420dadac1bc03556143e"
     }
    },
    "203502fffbe2459e8e5ce3747ee92dd0": {
     "model_module": "@jupyter-widgets/controls",
     "model_module_version": "1.5.0",
     "model_name": "HTMLModel",
     "state": {
      "_dom_classes": [],
      "_model_module": "@jupyter-widgets/controls",
      "_model_module_version": "1.5.0",
      "_model_name": "HTMLModel",
      "_view_count": null,
      "_view_module": "@jupyter-widgets/controls",
      "_view_module_version": "1.5.0",
      "_view_name": "HTMLView",
      "description": "",
      "description_tooltip": null,
      "layout": "IPY_MODEL_a76ff2292eb248e3ab18392128a8d830",
      "placeholder": "​",
      "style": "IPY_MODEL_527758467d8e4311b0d5edf305f77e1e",
      "value": "Map: 100%"
     }
    },
    "269fabdd40d446cf9035f07d1579ce28": {
     "model_module": "@jupyter-widgets/controls",
     "model_module_version": "1.5.0",
     "model_name": "DescriptionStyleModel",
     "state": {
      "_model_module": "@jupyter-widgets/controls",
      "_model_module_version": "1.5.0",
      "_model_name": "DescriptionStyleModel",
      "_view_count": null,
      "_view_module": "@jupyter-widgets/base",
      "_view_module_version": "1.2.0",
      "_view_name": "StyleView",
      "description_width": ""
     }
    },
    "27a57b0abb134ffab3c98e6c37b0e5b2": {
     "model_module": "@jupyter-widgets/controls",
     "model_module_version": "1.5.0",
     "model_name": "DescriptionStyleModel",
     "state": {
      "_model_module": "@jupyter-widgets/controls",
      "_model_module_version": "1.5.0",
      "_model_name": "DescriptionStyleModel",
      "_view_count": null,
      "_view_module": "@jupyter-widgets/base",
      "_view_module_version": "1.2.0",
      "_view_name": "StyleView",
      "description_width": ""
     }
    },
    "28d95553e3ac4ca4bea46cc5da05e1a6": {
     "model_module": "@jupyter-widgets/controls",
     "model_module_version": "1.5.0",
     "model_name": "ProgressStyleModel",
     "state": {
      "_model_module": "@jupyter-widgets/controls",
      "_model_module_version": "1.5.0",
      "_model_name": "ProgressStyleModel",
      "_view_count": null,
      "_view_module": "@jupyter-widgets/base",
      "_view_module_version": "1.2.0",
      "_view_name": "StyleView",
      "bar_color": null,
      "description_width": ""
     }
    },
    "38fedc7a8839414aa7a279ffa5658fba": {
     "model_module": "@jupyter-widgets/controls",
     "model_module_version": "1.5.0",
     "model_name": "FloatProgressModel",
     "state": {
      "_dom_classes": [],
      "_model_module": "@jupyter-widgets/controls",
      "_model_module_version": "1.5.0",
      "_model_name": "FloatProgressModel",
      "_view_count": null,
      "_view_module": "@jupyter-widgets/controls",
      "_view_module_version": "1.5.0",
      "_view_name": "ProgressView",
      "bar_style": "success",
      "description": "",
      "description_tooltip": null,
      "layout": "IPY_MODEL_69a92a26a3bb4ce1a098155564dd61ca",
      "max": 2409,
      "min": 0,
      "orientation": "horizontal",
      "style": "IPY_MODEL_28d95553e3ac4ca4bea46cc5da05e1a6",
      "value": 2409
     }
    },
    "394bd4c982644548ad852c39ccca1a51": {
     "model_module": "@jupyter-widgets/controls",
     "model_module_version": "1.5.0",
     "model_name": "FloatProgressModel",
     "state": {
      "_dom_classes": [],
      "_model_module": "@jupyter-widgets/controls",
      "_model_module_version": "1.5.0",
      "_model_name": "FloatProgressModel",
      "_view_count": null,
      "_view_module": "@jupyter-widgets/controls",
      "_view_module_version": "1.5.0",
      "_view_name": "ProgressView",
      "bar_style": "success",
      "description": "",
      "description_tooltip": null,
      "layout": "IPY_MODEL_188e0a6833d04f1d85f17ed82e29b51c",
      "max": 4203,
      "min": 0,
      "orientation": "horizontal",
      "style": "IPY_MODEL_f9784f33086e4515abdc95eff6cb0bb9",
      "value": 4203
     }
    },
    "3a45efe3f2df45778c89f22c96dbf87d": {
     "model_module": "@jupyter-widgets/controls",
     "model_module_version": "1.5.0",
     "model_name": "HTMLModel",
     "state": {
      "_dom_classes": [],
      "_model_module": "@jupyter-widgets/controls",
      "_model_module_version": "1.5.0",
      "_model_name": "HTMLModel",
      "_view_count": null,
      "_view_module": "@jupyter-widgets/controls",
      "_view_module_version": "1.5.0",
      "_view_name": "HTMLView",
      "description": "",
      "description_tooltip": null,
      "layout": "IPY_MODEL_025d2290af99474db1a249af3290dfbb",
      "placeholder": "​",
      "style": "IPY_MODEL_053afd02d37c4b38837b31eb3ef66a04",
      "value": " 2409/2409 [00:00&lt;00:00, 61280.66 examples/s]"
     }
    },
    "3e303dc145d247a9a29182b5022e808b": {
     "model_module": "@jupyter-widgets/base",
     "model_module_version": "1.2.0",
     "model_name": "LayoutModel",
     "state": {
      "_model_module": "@jupyter-widgets/base",
      "_model_module_version": "1.2.0",
      "_model_name": "LayoutModel",
      "_view_count": null,
      "_view_module": "@jupyter-widgets/base",
      "_view_module_version": "1.2.0",
      "_view_name": "LayoutView",
      "align_content": null,
      "align_items": null,
      "align_self": null,
      "border": null,
      "bottom": null,
      "display": null,
      "flex": null,
      "flex_flow": null,
      "grid_area": null,
      "grid_auto_columns": null,
      "grid_auto_flow": null,
      "grid_auto_rows": null,
      "grid_column": null,
      "grid_gap": null,
      "grid_row": null,
      "grid_template_areas": null,
      "grid_template_columns": null,
      "grid_template_rows": null,
      "height": null,
      "justify_content": null,
      "justify_items": null,
      "left": null,
      "margin": null,
      "max_height": null,
      "max_width": null,
      "min_height": null,
      "min_width": null,
      "object_fit": null,
      "object_position": null,
      "order": null,
      "overflow": null,
      "overflow_x": null,
      "overflow_y": null,
      "padding": null,
      "right": null,
      "top": null,
      "visibility": null,
      "width": null
     }
    },
    "3e7ea9c835c2485ca415d799ec3c7c78": {
     "model_module": "@jupyter-widgets/base",
     "model_module_version": "1.2.0",
     "model_name": "LayoutModel",
     "state": {
      "_model_module": "@jupyter-widgets/base",
      "_model_module_version": "1.2.0",
      "_model_name": "LayoutModel",
      "_view_count": null,
      "_view_module": "@jupyter-widgets/base",
      "_view_module_version": "1.2.0",
      "_view_name": "LayoutView",
      "align_content": null,
      "align_items": null,
      "align_self": null,
      "border": null,
      "bottom": null,
      "display": null,
      "flex": null,
      "flex_flow": null,
      "grid_area": null,
      "grid_auto_columns": null,
      "grid_auto_flow": null,
      "grid_auto_rows": null,
      "grid_column": null,
      "grid_gap": null,
      "grid_row": null,
      "grid_template_areas": null,
      "grid_template_columns": null,
      "grid_template_rows": null,
      "height": null,
      "justify_content": null,
      "justify_items": null,
      "left": null,
      "margin": null,
      "max_height": null,
      "max_width": null,
      "min_height": null,
      "min_width": null,
      "object_fit": null,
      "object_position": null,
      "order": null,
      "overflow": null,
      "overflow_x": null,
      "overflow_y": null,
      "padding": null,
      "right": null,
      "top": null,
      "visibility": null,
      "width": null
     }
    },
    "4a67f7a8a91e464cac67afe18c1ba96e": {
     "model_module": "@jupyter-widgets/base",
     "model_module_version": "1.2.0",
     "model_name": "LayoutModel",
     "state": {
      "_model_module": "@jupyter-widgets/base",
      "_model_module_version": "1.2.0",
      "_model_name": "LayoutModel",
      "_view_count": null,
      "_view_module": "@jupyter-widgets/base",
      "_view_module_version": "1.2.0",
      "_view_name": "LayoutView",
      "align_content": null,
      "align_items": null,
      "align_self": null,
      "border": null,
      "bottom": null,
      "display": null,
      "flex": null,
      "flex_flow": null,
      "grid_area": null,
      "grid_auto_columns": null,
      "grid_auto_flow": null,
      "grid_auto_rows": null,
      "grid_column": null,
      "grid_gap": null,
      "grid_row": null,
      "grid_template_areas": null,
      "grid_template_columns": null,
      "grid_template_rows": null,
      "height": null,
      "justify_content": null,
      "justify_items": null,
      "left": null,
      "margin": null,
      "max_height": null,
      "max_width": null,
      "min_height": null,
      "min_width": null,
      "object_fit": null,
      "object_position": null,
      "order": null,
      "overflow": null,
      "overflow_x": null,
      "overflow_y": null,
      "padding": null,
      "right": null,
      "top": null,
      "visibility": null,
      "width": null
     }
    },
    "4cdaa477a3874745b73b0975c3bf184c": {
     "model_module": "@jupyter-widgets/controls",
     "model_module_version": "1.5.0",
     "model_name": "HTMLModel",
     "state": {
      "_dom_classes": [],
      "_model_module": "@jupyter-widgets/controls",
      "_model_module_version": "1.5.0",
      "_model_name": "HTMLModel",
      "_view_count": null,
      "_view_module": "@jupyter-widgets/controls",
      "_view_module_version": "1.5.0",
      "_view_name": "HTMLView",
      "description": "",
      "description_tooltip": null,
      "layout": "IPY_MODEL_73ccb85bd29b4e91889911755933135d",
      "placeholder": "​",
      "style": "IPY_MODEL_269fabdd40d446cf9035f07d1579ce28",
      "value": " 2409/2409 [00:01&lt;00:00, 1304.03 examples/s]"
     }
    },
    "527758467d8e4311b0d5edf305f77e1e": {
     "model_module": "@jupyter-widgets/controls",
     "model_module_version": "1.5.0",
     "model_name": "DescriptionStyleModel",
     "state": {
      "_model_module": "@jupyter-widgets/controls",
      "_model_module_version": "1.5.0",
      "_model_name": "DescriptionStyleModel",
      "_view_count": null,
      "_view_module": "@jupyter-widgets/base",
      "_view_module_version": "1.2.0",
      "_view_name": "StyleView",
      "description_width": ""
     }
    },
    "5627857a16d548058cd80231e5d34ada": {
     "model_module": "@jupyter-widgets/controls",
     "model_module_version": "1.5.0",
     "model_name": "HTMLModel",
     "state": {
      "_dom_classes": [],
      "_model_module": "@jupyter-widgets/controls",
      "_model_module_version": "1.5.0",
      "_model_name": "HTMLModel",
      "_view_count": null,
      "_view_module": "@jupyter-widgets/controls",
      "_view_module_version": "1.5.0",
      "_view_name": "HTMLView",
      "description": "",
      "description_tooltip": null,
      "layout": "IPY_MODEL_3e7ea9c835c2485ca415d799ec3c7c78",
      "placeholder": "​",
      "style": "IPY_MODEL_7c87bd2b29a348b79dc153ac0cac49cc",
      "value": " 2409/2409 [00:00&lt;00:00, 55706.99 examples/s]"
     }
    },
    "56c80ed54b8e43ce931a2179b16d4944": {
     "model_module": "@jupyter-widgets/base",
     "model_module_version": "1.2.0",
     "model_name": "LayoutModel",
     "state": {
      "_model_module": "@jupyter-widgets/base",
      "_model_module_version": "1.2.0",
      "_model_name": "LayoutModel",
      "_view_count": null,
      "_view_module": "@jupyter-widgets/base",
      "_view_module_version": "1.2.0",
      "_view_name": "LayoutView",
      "align_content": null,
      "align_items": null,
      "align_self": null,
      "border": null,
      "bottom": null,
      "display": null,
      "flex": null,
      "flex_flow": null,
      "grid_area": null,
      "grid_auto_columns": null,
      "grid_auto_flow": null,
      "grid_auto_rows": null,
      "grid_column": null,
      "grid_gap": null,
      "grid_row": null,
      "grid_template_areas": null,
      "grid_template_columns": null,
      "grid_template_rows": null,
      "height": null,
      "justify_content": null,
      "justify_items": null,
      "left": null,
      "margin": null,
      "max_height": null,
      "max_width": null,
      "min_height": null,
      "min_width": null,
      "object_fit": null,
      "object_position": null,
      "order": null,
      "overflow": null,
      "overflow_x": null,
      "overflow_y": null,
      "padding": null,
      "right": null,
      "top": null,
      "visibility": null,
      "width": null
     }
    },
    "58acc6bf1ae34da79187cc1e2d22189c": {
     "model_module": "@jupyter-widgets/controls",
     "model_module_version": "1.5.0",
     "model_name": "FloatProgressModel",
     "state": {
      "_dom_classes": [],
      "_model_module": "@jupyter-widgets/controls",
      "_model_module_version": "1.5.0",
      "_model_name": "FloatProgressModel",
      "_view_count": null,
      "_view_module": "@jupyter-widgets/controls",
      "_view_module_version": "1.5.0",
      "_view_name": "ProgressView",
      "bar_style": "success",
      "description": "",
      "description_tooltip": null,
      "layout": "IPY_MODEL_c81d723bb0cb4f0d93a52aadff2ea568",
      "max": 2409,
      "min": 0,
      "orientation": "horizontal",
      "style": "IPY_MODEL_06a4fbff65da4da4a820795772b1cd0c",
      "value": 2409
     }
    },
    "67530cf63c2440e197e4e69fb9a1c3c2": {
     "model_module": "@jupyter-widgets/base",
     "model_module_version": "1.2.0",
     "model_name": "LayoutModel",
     "state": {
      "_model_module": "@jupyter-widgets/base",
      "_model_module_version": "1.2.0",
      "_model_name": "LayoutModel",
      "_view_count": null,
      "_view_module": "@jupyter-widgets/base",
      "_view_module_version": "1.2.0",
      "_view_name": "LayoutView",
      "align_content": null,
      "align_items": null,
      "align_self": null,
      "border": null,
      "bottom": null,
      "display": null,
      "flex": null,
      "flex_flow": null,
      "grid_area": null,
      "grid_auto_columns": null,
      "grid_auto_flow": null,
      "grid_auto_rows": null,
      "grid_column": null,
      "grid_gap": null,
      "grid_row": null,
      "grid_template_areas": null,
      "grid_template_columns": null,
      "grid_template_rows": null,
      "height": null,
      "justify_content": null,
      "justify_items": null,
      "left": null,
      "margin": null,
      "max_height": null,
      "max_width": null,
      "min_height": null,
      "min_width": null,
      "object_fit": null,
      "object_position": null,
      "order": null,
      "overflow": null,
      "overflow_x": null,
      "overflow_y": null,
      "padding": null,
      "right": null,
      "top": null,
      "visibility": null,
      "width": null
     }
    },
    "69a92a26a3bb4ce1a098155564dd61ca": {
     "model_module": "@jupyter-widgets/base",
     "model_module_version": "1.2.0",
     "model_name": "LayoutModel",
     "state": {
      "_model_module": "@jupyter-widgets/base",
      "_model_module_version": "1.2.0",
      "_model_name": "LayoutModel",
      "_view_count": null,
      "_view_module": "@jupyter-widgets/base",
      "_view_module_version": "1.2.0",
      "_view_name": "LayoutView",
      "align_content": null,
      "align_items": null,
      "align_self": null,
      "border": null,
      "bottom": null,
      "display": null,
      "flex": null,
      "flex_flow": null,
      "grid_area": null,
      "grid_auto_columns": null,
      "grid_auto_flow": null,
      "grid_auto_rows": null,
      "grid_column": null,
      "grid_gap": null,
      "grid_row": null,
      "grid_template_areas": null,
      "grid_template_columns": null,
      "grid_template_rows": null,
      "height": null,
      "justify_content": null,
      "justify_items": null,
      "left": null,
      "margin": null,
      "max_height": null,
      "max_width": null,
      "min_height": null,
      "min_width": null,
      "object_fit": null,
      "object_position": null,
      "order": null,
      "overflow": null,
      "overflow_x": null,
      "overflow_y": null,
      "padding": null,
      "right": null,
      "top": null,
      "visibility": null,
      "width": null
     }
    },
    "6d1fd2f9085840cfbed27c2108d27db0": {
     "model_module": "@jupyter-widgets/base",
     "model_module_version": "1.2.0",
     "model_name": "LayoutModel",
     "state": {
      "_model_module": "@jupyter-widgets/base",
      "_model_module_version": "1.2.0",
      "_model_name": "LayoutModel",
      "_view_count": null,
      "_view_module": "@jupyter-widgets/base",
      "_view_module_version": "1.2.0",
      "_view_name": "LayoutView",
      "align_content": null,
      "align_items": null,
      "align_self": null,
      "border": null,
      "bottom": null,
      "display": null,
      "flex": null,
      "flex_flow": null,
      "grid_area": null,
      "grid_auto_columns": null,
      "grid_auto_flow": null,
      "grid_auto_rows": null,
      "grid_column": null,
      "grid_gap": null,
      "grid_row": null,
      "grid_template_areas": null,
      "grid_template_columns": null,
      "grid_template_rows": null,
      "height": null,
      "justify_content": null,
      "justify_items": null,
      "left": null,
      "margin": null,
      "max_height": null,
      "max_width": null,
      "min_height": null,
      "min_width": null,
      "object_fit": null,
      "object_position": null,
      "order": null,
      "overflow": null,
      "overflow_x": null,
      "overflow_y": null,
      "padding": null,
      "right": null,
      "top": null,
      "visibility": null,
      "width": null
     }
    },
    "7287384860794f32bbbf26b2cdff38d6": {
     "model_module": "@jupyter-widgets/base",
     "model_module_version": "1.2.0",
     "model_name": "LayoutModel",
     "state": {
      "_model_module": "@jupyter-widgets/base",
      "_model_module_version": "1.2.0",
      "_model_name": "LayoutModel",
      "_view_count": null,
      "_view_module": "@jupyter-widgets/base",
      "_view_module_version": "1.2.0",
      "_view_name": "LayoutView",
      "align_content": null,
      "align_items": null,
      "align_self": null,
      "border": null,
      "bottom": null,
      "display": null,
      "flex": null,
      "flex_flow": null,
      "grid_area": null,
      "grid_auto_columns": null,
      "grid_auto_flow": null,
      "grid_auto_rows": null,
      "grid_column": null,
      "grid_gap": null,
      "grid_row": null,
      "grid_template_areas": null,
      "grid_template_columns": null,
      "grid_template_rows": null,
      "height": null,
      "justify_content": null,
      "justify_items": null,
      "left": null,
      "margin": null,
      "max_height": null,
      "max_width": null,
      "min_height": null,
      "min_width": null,
      "object_fit": null,
      "object_position": null,
      "order": null,
      "overflow": null,
      "overflow_x": null,
      "overflow_y": null,
      "padding": null,
      "right": null,
      "top": null,
      "visibility": null,
      "width": null
     }
    },
    "73ccb85bd29b4e91889911755933135d": {
     "model_module": "@jupyter-widgets/base",
     "model_module_version": "1.2.0",
     "model_name": "LayoutModel",
     "state": {
      "_model_module": "@jupyter-widgets/base",
      "_model_module_version": "1.2.0",
      "_model_name": "LayoutModel",
      "_view_count": null,
      "_view_module": "@jupyter-widgets/base",
      "_view_module_version": "1.2.0",
      "_view_name": "LayoutView",
      "align_content": null,
      "align_items": null,
      "align_self": null,
      "border": null,
      "bottom": null,
      "display": null,
      "flex": null,
      "flex_flow": null,
      "grid_area": null,
      "grid_auto_columns": null,
      "grid_auto_flow": null,
      "grid_auto_rows": null,
      "grid_column": null,
      "grid_gap": null,
      "grid_row": null,
      "grid_template_areas": null,
      "grid_template_columns": null,
      "grid_template_rows": null,
      "height": null,
      "justify_content": null,
      "justify_items": null,
      "left": null,
      "margin": null,
      "max_height": null,
      "max_width": null,
      "min_height": null,
      "min_width": null,
      "object_fit": null,
      "object_position": null,
      "order": null,
      "overflow": null,
      "overflow_x": null,
      "overflow_y": null,
      "padding": null,
      "right": null,
      "top": null,
      "visibility": null,
      "width": null
     }
    },
    "7c5378fde6594374bd49ff1c6ee61e8e": {
     "model_module": "@jupyter-widgets/controls",
     "model_module_version": "1.5.0",
     "model_name": "HBoxModel",
     "state": {
      "_dom_classes": [],
      "_model_module": "@jupyter-widgets/controls",
      "_model_module_version": "1.5.0",
      "_model_name": "HBoxModel",
      "_view_count": null,
      "_view_module": "@jupyter-widgets/controls",
      "_view_module_version": "1.5.0",
      "_view_name": "HBoxView",
      "box_style": "",
      "children": [
       "IPY_MODEL_84570d5aabfe4b6e85852a12785c63d9",
       "IPY_MODEL_d137729199814b30af89bad34acebc1a",
       "IPY_MODEL_a17d83f0fca545e6bb9d67cdb48f2185"
      ],
      "layout": "IPY_MODEL_4a67f7a8a91e464cac67afe18c1ba96e"
     }
    },
    "7c87bd2b29a348b79dc153ac0cac49cc": {
     "model_module": "@jupyter-widgets/controls",
     "model_module_version": "1.5.0",
     "model_name": "DescriptionStyleModel",
     "state": {
      "_model_module": "@jupyter-widgets/controls",
      "_model_module_version": "1.5.0",
      "_model_name": "DescriptionStyleModel",
      "_view_count": null,
      "_view_module": "@jupyter-widgets/base",
      "_view_module_version": "1.2.0",
      "_view_name": "StyleView",
      "description_width": ""
     }
    },
    "840cc84354494e6c9a8925a8d63f0fff": {
     "model_module": "@jupyter-widgets/controls",
     "model_module_version": "1.5.0",
     "model_name": "DescriptionStyleModel",
     "state": {
      "_model_module": "@jupyter-widgets/controls",
      "_model_module_version": "1.5.0",
      "_model_name": "DescriptionStyleModel",
      "_view_count": null,
      "_view_module": "@jupyter-widgets/base",
      "_view_module_version": "1.2.0",
      "_view_name": "StyleView",
      "description_width": ""
     }
    },
    "84570d5aabfe4b6e85852a12785c63d9": {
     "model_module": "@jupyter-widgets/controls",
     "model_module_version": "1.5.0",
     "model_name": "HTMLModel",
     "state": {
      "_dom_classes": [],
      "_model_module": "@jupyter-widgets/controls",
      "_model_module_version": "1.5.0",
      "_model_name": "HTMLModel",
      "_view_count": null,
      "_view_module": "@jupyter-widgets/controls",
      "_view_module_version": "1.5.0",
      "_view_name": "HTMLView",
      "description": "",
      "description_tooltip": null,
      "layout": "IPY_MODEL_e383582ff3a841d5a0cff7c7399f9fa6",
      "placeholder": "​",
      "style": "IPY_MODEL_9c7c2251a8064fe4b5a2a2af5b382694",
      "value": "Generating train split: "
     }
    },
    "93a3f32e7a7c4e328d5933afc4d3d2d5": {
     "model_module": "@jupyter-widgets/controls",
     "model_module_version": "1.5.0",
     "model_name": "ProgressStyleModel",
     "state": {
      "_model_module": "@jupyter-widgets/controls",
      "_model_module_version": "1.5.0",
      "_model_name": "ProgressStyleModel",
      "_view_count": null,
      "_view_module": "@jupyter-widgets/base",
      "_view_module_version": "1.2.0",
      "_view_name": "StyleView",
      "bar_color": null,
      "description_width": ""
     }
    },
    "9b7e307cf6b44a4fb85864cf69eaf433": {
     "model_module": "@jupyter-widgets/controls",
     "model_module_version": "1.5.0",
     "model_name": "HTMLModel",
     "state": {
      "_dom_classes": [],
      "_model_module": "@jupyter-widgets/controls",
      "_model_module_version": "1.5.0",
      "_model_name": "HTMLModel",
      "_view_count": null,
      "_view_module": "@jupyter-widgets/controls",
      "_view_module_version": "1.5.0",
      "_view_name": "HTMLView",
      "description": "",
      "description_tooltip": null,
      "layout": "IPY_MODEL_1432e68bc2694481bbd870fc721adec8",
      "placeholder": "​",
      "style": "IPY_MODEL_9edd746e64bc492f8cd83844db806acc",
      "value": " 4.20k/4.20k [00:00&lt;00:00, 97.6kB/s]"
     }
    },
    "9c7c2251a8064fe4b5a2a2af5b382694": {
     "model_module": "@jupyter-widgets/controls",
     "model_module_version": "1.5.0",
     "model_name": "DescriptionStyleModel",
     "state": {
      "_model_module": "@jupyter-widgets/controls",
      "_model_module_version": "1.5.0",
      "_model_name": "DescriptionStyleModel",
      "_view_count": null,
      "_view_module": "@jupyter-widgets/base",
      "_view_module_version": "1.2.0",
      "_view_name": "StyleView",
      "description_width": ""
     }
    },
    "9e1fcf424e3a47b5b35a6752c967d580": {
     "model_module": "@jupyter-widgets/base",
     "model_module_version": "1.2.0",
     "model_name": "LayoutModel",
     "state": {
      "_model_module": "@jupyter-widgets/base",
      "_model_module_version": "1.2.0",
      "_model_name": "LayoutModel",
      "_view_count": null,
      "_view_module": "@jupyter-widgets/base",
      "_view_module_version": "1.2.0",
      "_view_name": "LayoutView",
      "align_content": null,
      "align_items": null,
      "align_self": null,
      "border": null,
      "bottom": null,
      "display": null,
      "flex": null,
      "flex_flow": null,
      "grid_area": null,
      "grid_auto_columns": null,
      "grid_auto_flow": null,
      "grid_auto_rows": null,
      "grid_column": null,
      "grid_gap": null,
      "grid_row": null,
      "grid_template_areas": null,
      "grid_template_columns": null,
      "grid_template_rows": null,
      "height": null,
      "justify_content": null,
      "justify_items": null,
      "left": null,
      "margin": null,
      "max_height": null,
      "max_width": null,
      "min_height": null,
      "min_width": null,
      "object_fit": null,
      "object_position": null,
      "order": null,
      "overflow": null,
      "overflow_x": null,
      "overflow_y": null,
      "padding": null,
      "right": null,
      "top": null,
      "visibility": null,
      "width": null
     }
    },
    "9edd746e64bc492f8cd83844db806acc": {
     "model_module": "@jupyter-widgets/controls",
     "model_module_version": "1.5.0",
     "model_name": "DescriptionStyleModel",
     "state": {
      "_model_module": "@jupyter-widgets/controls",
      "_model_module_version": "1.5.0",
      "_model_name": "DescriptionStyleModel",
      "_view_count": null,
      "_view_module": "@jupyter-widgets/base",
      "_view_module_version": "1.2.0",
      "_view_name": "StyleView",
      "description_width": ""
     }
    },
    "a17d83f0fca545e6bb9d67cdb48f2185": {
     "model_module": "@jupyter-widgets/controls",
     "model_module_version": "1.5.0",
     "model_name": "HTMLModel",
     "state": {
      "_dom_classes": [],
      "_model_module": "@jupyter-widgets/controls",
      "_model_module_version": "1.5.0",
      "_model_name": "HTMLModel",
      "_view_count": null,
      "_view_module": "@jupyter-widgets/controls",
      "_view_module_version": "1.5.0",
      "_view_name": "HTMLView",
      "description": "",
      "description_tooltip": null,
      "layout": "IPY_MODEL_9e1fcf424e3a47b5b35a6752c967d580",
      "placeholder": "​",
      "style": "IPY_MODEL_a1ea76e96bfd4a1cb1353c10029c35f9",
      "value": " 2409/0 [00:00&lt;00:00, 18638.53 examples/s]"
     }
    },
    "a1ea76e96bfd4a1cb1353c10029c35f9": {
     "model_module": "@jupyter-widgets/controls",
     "model_module_version": "1.5.0",
     "model_name": "DescriptionStyleModel",
     "state": {
      "_model_module": "@jupyter-widgets/controls",
      "_model_module_version": "1.5.0",
      "_model_name": "DescriptionStyleModel",
      "_view_count": null,
      "_view_module": "@jupyter-widgets/base",
      "_view_module_version": "1.2.0",
      "_view_name": "StyleView",
      "description_width": ""
     }
    },
    "a76ff2292eb248e3ab18392128a8d830": {
     "model_module": "@jupyter-widgets/base",
     "model_module_version": "1.2.0",
     "model_name": "LayoutModel",
     "state": {
      "_model_module": "@jupyter-widgets/base",
      "_model_module_version": "1.2.0",
      "_model_name": "LayoutModel",
      "_view_count": null,
      "_view_module": "@jupyter-widgets/base",
      "_view_module_version": "1.2.0",
      "_view_name": "LayoutView",
      "align_content": null,
      "align_items": null,
      "align_self": null,
      "border": null,
      "bottom": null,
      "display": null,
      "flex": null,
      "flex_flow": null,
      "grid_area": null,
      "grid_auto_columns": null,
      "grid_auto_flow": null,
      "grid_auto_rows": null,
      "grid_column": null,
      "grid_gap": null,
      "grid_row": null,
      "grid_template_areas": null,
      "grid_template_columns": null,
      "grid_template_rows": null,
      "height": null,
      "justify_content": null,
      "justify_items": null,
      "left": null,
      "margin": null,
      "max_height": null,
      "max_width": null,
      "min_height": null,
      "min_width": null,
      "object_fit": null,
      "object_position": null,
      "order": null,
      "overflow": null,
      "overflow_x": null,
      "overflow_y": null,
      "padding": null,
      "right": null,
      "top": null,
      "visibility": null,
      "width": null
     }
    },
    "a926d2c2bd1e4c2093aecdbdc543bf1d": {
     "model_module": "@jupyter-widgets/controls",
     "model_module_version": "1.5.0",
     "model_name": "HBoxModel",
     "state": {
      "_dom_classes": [],
      "_model_module": "@jupyter-widgets/controls",
      "_model_module_version": "1.5.0",
      "_model_name": "HBoxModel",
      "_view_count": null,
      "_view_module": "@jupyter-widgets/controls",
      "_view_module_version": "1.5.0",
      "_view_name": "HBoxView",
      "box_style": "",
      "children": [
       "IPY_MODEL_127177d5ea504bb6a2f8321d962f13fd",
       "IPY_MODEL_58acc6bf1ae34da79187cc1e2d22189c",
       "IPY_MODEL_5627857a16d548058cd80231e5d34ada"
      ],
      "layout": "IPY_MODEL_6d1fd2f9085840cfbed27c2108d27db0"
     }
    },
    "ad0cca72673a4d7dab0d2ef5137384fd": {
     "model_module": "@jupyter-widgets/controls",
     "model_module_version": "1.5.0",
     "model_name": "HBoxModel",
     "state": {
      "_dom_classes": [],
      "_model_module": "@jupyter-widgets/controls",
      "_model_module_version": "1.5.0",
      "_model_name": "HBoxModel",
      "_view_count": null,
      "_view_module": "@jupyter-widgets/controls",
      "_view_module_version": "1.5.0",
      "_view_name": "HBoxView",
      "box_style": "",
      "children": [
       "IPY_MODEL_eb161e7813a64cc1bbadaf8dc229095f",
       "IPY_MODEL_38fedc7a8839414aa7a279ffa5658fba",
       "IPY_MODEL_3a45efe3f2df45778c89f22c96dbf87d"
      ],
      "layout": "IPY_MODEL_7287384860794f32bbbf26b2cdff38d6"
     }
    },
    "ae0e766118c24b09951720ae931d544c": {
     "model_module": "@jupyter-widgets/controls",
     "model_module_version": "1.5.0",
     "model_name": "DescriptionStyleModel",
     "state": {
      "_model_module": "@jupyter-widgets/controls",
      "_model_module_version": "1.5.0",
      "_model_name": "DescriptionStyleModel",
      "_view_count": null,
      "_view_module": "@jupyter-widgets/base",
      "_view_module_version": "1.2.0",
      "_view_name": "StyleView",
      "description_width": ""
     }
    },
    "b31773de75e1420dadac1bc03556143e": {
     "model_module": "@jupyter-widgets/base",
     "model_module_version": "1.2.0",
     "model_name": "LayoutModel",
     "state": {
      "_model_module": "@jupyter-widgets/base",
      "_model_module_version": "1.2.0",
      "_model_name": "LayoutModel",
      "_view_count": null,
      "_view_module": "@jupyter-widgets/base",
      "_view_module_version": "1.2.0",
      "_view_name": "LayoutView",
      "align_content": null,
      "align_items": null,
      "align_self": null,
      "border": null,
      "bottom": null,
      "display": null,
      "flex": null,
      "flex_flow": null,
      "grid_area": null,
      "grid_auto_columns": null,
      "grid_auto_flow": null,
      "grid_auto_rows": null,
      "grid_column": null,
      "grid_gap": null,
      "grid_row": null,
      "grid_template_areas": null,
      "grid_template_columns": null,
      "grid_template_rows": null,
      "height": null,
      "justify_content": null,
      "justify_items": null,
      "left": null,
      "margin": null,
      "max_height": null,
      "max_width": null,
      "min_height": null,
      "min_width": null,
      "object_fit": null,
      "object_position": null,
      "order": null,
      "overflow": null,
      "overflow_x": null,
      "overflow_y": null,
      "padding": null,
      "right": null,
      "top": null,
      "visibility": null,
      "width": null
     }
    },
    "c81d723bb0cb4f0d93a52aadff2ea568": {
     "model_module": "@jupyter-widgets/base",
     "model_module_version": "1.2.0",
     "model_name": "LayoutModel",
     "state": {
      "_model_module": "@jupyter-widgets/base",
      "_model_module_version": "1.2.0",
      "_model_name": "LayoutModel",
      "_view_count": null,
      "_view_module": "@jupyter-widgets/base",
      "_view_module_version": "1.2.0",
      "_view_name": "LayoutView",
      "align_content": null,
      "align_items": null,
      "align_self": null,
      "border": null,
      "bottom": null,
      "display": null,
      "flex": null,
      "flex_flow": null,
      "grid_area": null,
      "grid_auto_columns": null,
      "grid_auto_flow": null,
      "grid_auto_rows": null,
      "grid_column": null,
      "grid_gap": null,
      "grid_row": null,
      "grid_template_areas": null,
      "grid_template_columns": null,
      "grid_template_rows": null,
      "height": null,
      "justify_content": null,
      "justify_items": null,
      "left": null,
      "margin": null,
      "max_height": null,
      "max_width": null,
      "min_height": null,
      "min_width": null,
      "object_fit": null,
      "object_position": null,
      "order": null,
      "overflow": null,
      "overflow_x": null,
      "overflow_y": null,
      "padding": null,
      "right": null,
      "top": null,
      "visibility": null,
      "width": null
     }
    },
    "c820310bdd804013a11443d37b283797": {
     "model_module": "@jupyter-widgets/controls",
     "model_module_version": "1.5.0",
     "model_name": "HBoxModel",
     "state": {
      "_dom_classes": [],
      "_model_module": "@jupyter-widgets/controls",
      "_model_module_version": "1.5.0",
      "_model_name": "HBoxModel",
      "_view_count": null,
      "_view_module": "@jupyter-widgets/controls",
      "_view_module_version": "1.5.0",
      "_view_name": "HBoxView",
      "box_style": "",
      "children": [
       "IPY_MODEL_203502fffbe2459e8e5ce3747ee92dd0",
       "IPY_MODEL_d9bf46a771b8439892ed8cfc0d675099",
       "IPY_MODEL_4cdaa477a3874745b73b0975c3bf184c"
      ],
      "layout": "IPY_MODEL_56c80ed54b8e43ce931a2179b16d4944"
     }
    },
    "d137729199814b30af89bad34acebc1a": {
     "model_module": "@jupyter-widgets/controls",
     "model_module_version": "1.5.0",
     "model_name": "FloatProgressModel",
     "state": {
      "_dom_classes": [],
      "_model_module": "@jupyter-widgets/controls",
      "_model_module_version": "1.5.0",
      "_model_name": "FloatProgressModel",
      "_view_count": null,
      "_view_module": "@jupyter-widgets/controls",
      "_view_module_version": "1.5.0",
      "_view_name": "ProgressView",
      "bar_style": "success",
      "description": "",
      "description_tooltip": null,
      "layout": "IPY_MODEL_08258dc680e14d29b934bea5ae665727",
      "max": 1,
      "min": 0,
      "orientation": "horizontal",
      "style": "IPY_MODEL_93a3f32e7a7c4e328d5933afc4d3d2d5",
      "value": 1
     }
    },
    "d9bf46a771b8439892ed8cfc0d675099": {
     "model_module": "@jupyter-widgets/controls",
     "model_module_version": "1.5.0",
     "model_name": "FloatProgressModel",
     "state": {
      "_dom_classes": [],
      "_model_module": "@jupyter-widgets/controls",
      "_model_module_version": "1.5.0",
      "_model_name": "FloatProgressModel",
      "_view_count": null,
      "_view_module": "@jupyter-widgets/controls",
      "_view_module_version": "1.5.0",
      "_view_name": "ProgressView",
      "bar_style": "success",
      "description": "",
      "description_tooltip": null,
      "layout": "IPY_MODEL_3e303dc145d247a9a29182b5022e808b",
      "max": 2409,
      "min": 0,
      "orientation": "horizontal",
      "style": "IPY_MODEL_f4b6bc2036664fe4a06505c4bed23855",
      "value": 2409
     }
    },
    "de88870dfa534569a07aa52dfe9a2b9a": {
     "model_module": "@jupyter-widgets/base",
     "model_module_version": "1.2.0",
     "model_name": "LayoutModel",
     "state": {
      "_model_module": "@jupyter-widgets/base",
      "_model_module_version": "1.2.0",
      "_model_name": "LayoutModel",
      "_view_count": null,
      "_view_module": "@jupyter-widgets/base",
      "_view_module_version": "1.2.0",
      "_view_name": "LayoutView",
      "align_content": null,
      "align_items": null,
      "align_self": null,
      "border": null,
      "bottom": null,
      "display": null,
      "flex": null,
      "flex_flow": null,
      "grid_area": null,
      "grid_auto_columns": null,
      "grid_auto_flow": null,
      "grid_auto_rows": null,
      "grid_column": null,
      "grid_gap": null,
      "grid_row": null,
      "grid_template_areas": null,
      "grid_template_columns": null,
      "grid_template_rows": null,
      "height": null,
      "justify_content": null,
      "justify_items": null,
      "left": null,
      "margin": null,
      "max_height": null,
      "max_width": null,
      "min_height": null,
      "min_width": null,
      "object_fit": null,
      "object_position": null,
      "order": null,
      "overflow": null,
      "overflow_x": null,
      "overflow_y": null,
      "padding": null,
      "right": null,
      "top": null,
      "visibility": null,
      "width": null
     }
    },
    "e383582ff3a841d5a0cff7c7399f9fa6": {
     "model_module": "@jupyter-widgets/base",
     "model_module_version": "1.2.0",
     "model_name": "LayoutModel",
     "state": {
      "_model_module": "@jupyter-widgets/base",
      "_model_module_version": "1.2.0",
      "_model_name": "LayoutModel",
      "_view_count": null,
      "_view_module": "@jupyter-widgets/base",
      "_view_module_version": "1.2.0",
      "_view_name": "LayoutView",
      "align_content": null,
      "align_items": null,
      "align_self": null,
      "border": null,
      "bottom": null,
      "display": null,
      "flex": null,
      "flex_flow": null,
      "grid_area": null,
      "grid_auto_columns": null,
      "grid_auto_flow": null,
      "grid_auto_rows": null,
      "grid_column": null,
      "grid_gap": null,
      "grid_row": null,
      "grid_template_areas": null,
      "grid_template_columns": null,
      "grid_template_rows": null,
      "height": null,
      "justify_content": null,
      "justify_items": null,
      "left": null,
      "margin": null,
      "max_height": null,
      "max_width": null,
      "min_height": null,
      "min_width": null,
      "object_fit": null,
      "object_position": null,
      "order": null,
      "overflow": null,
      "overflow_x": null,
      "overflow_y": null,
      "padding": null,
      "right": null,
      "top": null,
      "visibility": null,
      "width": null
     }
    },
    "eb161e7813a64cc1bbadaf8dc229095f": {
     "model_module": "@jupyter-widgets/controls",
     "model_module_version": "1.5.0",
     "model_name": "HTMLModel",
     "state": {
      "_dom_classes": [],
      "_model_module": "@jupyter-widgets/controls",
      "_model_module_version": "1.5.0",
      "_model_name": "HTMLModel",
      "_view_count": null,
      "_view_module": "@jupyter-widgets/controls",
      "_view_module_version": "1.5.0",
      "_view_name": "HTMLView",
      "description": "",
      "description_tooltip": null,
      "layout": "IPY_MODEL_de88870dfa534569a07aa52dfe9a2b9a",
      "placeholder": "​",
      "style": "IPY_MODEL_ae0e766118c24b09951720ae931d544c",
      "value": "Casting to class labels: 100%"
     }
    },
    "f4b6bc2036664fe4a06505c4bed23855": {
     "model_module": "@jupyter-widgets/controls",
     "model_module_version": "1.5.0",
     "model_name": "ProgressStyleModel",
     "state": {
      "_model_module": "@jupyter-widgets/controls",
      "_model_module_version": "1.5.0",
      "_model_name": "ProgressStyleModel",
      "_view_count": null,
      "_view_module": "@jupyter-widgets/base",
      "_view_module_version": "1.2.0",
      "_view_name": "StyleView",
      "bar_color": null,
      "description_width": ""
     }
    },
    "f9784f33086e4515abdc95eff6cb0bb9": {
     "model_module": "@jupyter-widgets/controls",
     "model_module_version": "1.5.0",
     "model_name": "ProgressStyleModel",
     "state": {
      "_model_module": "@jupyter-widgets/controls",
      "_model_module_version": "1.5.0",
      "_model_name": "ProgressStyleModel",
      "_view_count": null,
      "_view_module": "@jupyter-widgets/base",
      "_view_module_version": "1.2.0",
      "_view_name": "StyleView",
      "bar_color": null,
      "description_width": ""
     }
    }
   }
  }
 },
 "nbformat": 4,
 "nbformat_minor": 0
}
